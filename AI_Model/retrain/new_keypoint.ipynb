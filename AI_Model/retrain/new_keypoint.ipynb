{
  "cells": [
    {
      "cell_type": "code",
      "execution_count": 1,
      "metadata": {
        "id": "igMyGnjE9hEp"
      },
      "outputs": [
        {
          "name": "stdout",
          "output_type": "stream",
          "text": [
            "WARNING:tensorflow:From c:\\Year 3\\FYP\\Modelling\\fyp_modelling\\lib\\site-packages\\keras\\src\\losses.py:2976: The name tf.losses.sparse_softmax_cross_entropy is deprecated. Please use tf.compat.v1.losses.sparse_softmax_cross_entropy instead.\n",
            "\n"
          ]
        }
      ],
      "source": [
        "import csv\n",
        "\n",
        "import numpy as np\n",
        "import tensorflow as tf\n",
        "from sklearn.model_selection import train_test_split\n",
        "\n",
        "RANDOM_SEED = 42"
      ]
    },
    {
      "cell_type": "markdown",
      "metadata": {
        "id": "t2HDvhIu9hEr"
      },
      "source": [
        "# Specify each path"
      ]
    },
    {
      "cell_type": "code",
      "execution_count": 2,
      "metadata": {
        "id": "9NvZP2Zn9hEy"
      },
      "outputs": [],
      "source": [
        "dataset = \"../model/keypoint_classifier/new_keypoint.csv\"\n",
        "model_save_path = '../model/keypoint_classifier/new_keypoint.hdf5'\n",
        "tflite_save_path = '../model/keypoint_classifier/new_keypoint.tflite'"
      ]
    },
    {
      "cell_type": "markdown",
      "metadata": {
        "id": "s5oMH7x19hEz"
      },
      "source": [
        "# Set number of classes"
      ]
    },
    {
      "cell_type": "code",
      "execution_count": 3,
      "metadata": {
        "id": "du4kodXL9hEz"
      },
      "outputs": [],
      "source": [
        "NUM_CLASSES = 8"
      ]
    },
    {
      "cell_type": "markdown",
      "metadata": {
        "id": "XjnL0uso9hEz"
      },
      "source": [
        "# Dataset reading"
      ]
    },
    {
      "cell_type": "code",
      "execution_count": 4,
      "metadata": {},
      "outputs": [
        {
          "name": "stdout",
          "output_type": "stream",
          "text": [
            "Class distribution before resampling:\n",
            "Class 0: 4223 instances\n",
            "Class 1: 3929 instances\n",
            "Class 2: 3871 instances\n",
            "Class 3: 3283 instances\n",
            "Class 4: 3242 instances\n",
            "Class 5: 3256 instances\n",
            "Class 6: 3223 instances\n",
            "Class 7: 3837 instances\n",
            "\n",
            "Class distribution after resampling:\n",
            "Class 0: 3560 instances\n",
            "Class 1: 3560 instances\n",
            "Class 2: 3560 instances\n",
            "Class 3: 3560 instances\n",
            "Class 4: 3560 instances\n",
            "Class 5: 3560 instances\n",
            "Class 6: 3560 instances\n",
            "Class 7: 3560 instances\n"
          ]
        }
      ],
      "source": [
        "from imblearn.under_sampling import RandomUnderSampler\n",
        "from imblearn.over_sampling import RandomOverSampler\n",
        "import numpy as np\n",
        "import pandas as pd\n",
        "\n",
        "\n",
        "# Read the dataset from the CSV file\n",
        "data = pd.read_csv(dataset)\n",
        "\n",
        "# Specify the target variable\n",
        "balance_by = data.columns[0]\n",
        "\n",
        "# Function to determine the sampling strategy\n",
        "def sampling_strategy(X, y, n_samples, t='majority'):\n",
        "    target_classes = ''\n",
        "    if t == 'majority':\n",
        "        target_classes = y.value_counts() > n_samples\n",
        "    elif t == 'minority':\n",
        "        target_classes = y.value_counts() < n_samples\n",
        "    tc = target_classes[target_classes == True].index\n",
        "    sampling_strategy = {}\n",
        "    for target in tc:\n",
        "        sampling_strategy[target] = n_samples\n",
        "    return sampling_strategy\n",
        "\n",
        "# Calculate the median count for balancing\n",
        "n_samples = int(data[balance_by].value_counts().median())\n",
        "\n",
        "# Balancing the data using RandomUnderSampler and RandomOverSampler\n",
        "under_sampler = RandomUnderSampler(sampling_strategy=sampling_strategy(data.drop(balance_by, axis=1), data[balance_by], n_samples, t='majority'))\n",
        "X_under, y_under = under_sampler.fit_resample(data.drop(balance_by, axis=1), data[balance_by])\n",
        "\n",
        "over_sampler = RandomOverSampler(sampling_strategy=sampling_strategy(X_under, y_under, n_samples, t='minority'))\n",
        "X_bal, y_bal = over_sampler.fit_resample(X_under, y_under)\n",
        "\n",
        "balanced_data = pd.DataFrame(X_bal)\n",
        "balanced_data[balance_by] = y_bal\n",
        "\n",
        "# Print class distribution before resampling\n",
        "unique_classes_before, class_counts_before = np.unique(data[balance_by], return_counts=True)\n",
        "print(\"Class distribution before resampling:\")\n",
        "for class_label, count in zip(unique_classes_before, class_counts_before):\n",
        "    print(f\"Class {class_label}: {count} instances\")\n",
        "\n",
        "# Print class distribution after resampling\n",
        "unique_classes_after, class_counts_after = np.unique(balanced_data[balance_by], return_counts=True)\n",
        "print(\"\\nClass distribution after resampling:\")\n",
        "for class_label, count in zip(unique_classes_after, class_counts_after):\n",
        "    print(f\"Class {class_label}: {count} instances\")\n"
      ]
    },
    {
      "cell_type": "code",
      "execution_count": 5,
      "metadata": {},
      "outputs": [
        {
          "data": {
            "text/html": [
              "<div>\n",
              "<style scoped>\n",
              "    .dataframe tbody tr th:only-of-type {\n",
              "        vertical-align: middle;\n",
              "    }\n",
              "\n",
              "    .dataframe tbody tr th {\n",
              "        vertical-align: top;\n",
              "    }\n",
              "\n",
              "    .dataframe thead th {\n",
              "        text-align: right;\n",
              "    }\n",
              "</style>\n",
              "<table border=\"1\" class=\"dataframe\">\n",
              "  <thead>\n",
              "    <tr style=\"text-align: right;\">\n",
              "      <th></th>\n",
              "      <th>0.0</th>\n",
              "      <th>0.0.1</th>\n",
              "      <th>0.23605150214592274</th>\n",
              "      <th>-0.3776824034334764</th>\n",
              "      <th>0.30472103004291845</th>\n",
              "      <th>-0.630901287553648</th>\n",
              "      <th>0.3605150214592275</th>\n",
              "      <th>-0.8412017167381974</th>\n",
              "      <th>0.2832618025751073</th>\n",
              "      <th>-0.9957081545064378</th>\n",
              "      <th>...</th>\n",
              "      <th>-0.5150214592274678</th>\n",
              "      <th>-0.2017167381974249</th>\n",
              "      <th>-0.5793991416309013</th>\n",
              "      <th>0.11158798283261803</th>\n",
              "      <th>-0.6738197424892703.1</th>\n",
              "      <th>0.15450643776824036</th>\n",
              "      <th>-0.51931330472103</th>\n",
              "      <th>0.04721030042918455</th>\n",
              "      <th>-0.4592274678111588</th>\n",
              "      <th>0</th>\n",
              "    </tr>\n",
              "  </thead>\n",
              "  <tbody>\n",
              "    <tr>\n",
              "      <th>0</th>\n",
              "      <td>0.0</td>\n",
              "      <td>0.0</td>\n",
              "      <td>-0.404858</td>\n",
              "      <td>-0.040486</td>\n",
              "      <td>-0.708502</td>\n",
              "      <td>-0.048583</td>\n",
              "      <td>-0.923077</td>\n",
              "      <td>0.028340</td>\n",
              "      <td>-0.846154</td>\n",
              "      <td>0.048583</td>\n",
              "      <td>...</td>\n",
              "      <td>0.064777</td>\n",
              "      <td>-0.012146</td>\n",
              "      <td>-0.080972</td>\n",
              "      <td>-0.372470</td>\n",
              "      <td>0.287449</td>\n",
              "      <td>-0.315789</td>\n",
              "      <td>0.283401</td>\n",
              "      <td>-0.214575</td>\n",
              "      <td>0.145749</td>\n",
              "      <td>0</td>\n",
              "    </tr>\n",
              "    <tr>\n",
              "      <th>1</th>\n",
              "      <td>0.0</td>\n",
              "      <td>0.0</td>\n",
              "      <td>-0.188596</td>\n",
              "      <td>-0.083333</td>\n",
              "      <td>-0.337719</td>\n",
              "      <td>-0.232456</td>\n",
              "      <td>-0.442982</td>\n",
              "      <td>-0.364035</td>\n",
              "      <td>-0.535088</td>\n",
              "      <td>-0.451754</td>\n",
              "      <td>...</td>\n",
              "      <td>-0.934211</td>\n",
              "      <td>0.188596</td>\n",
              "      <td>-0.399123</td>\n",
              "      <td>0.258772</td>\n",
              "      <td>-0.552632</td>\n",
              "      <td>0.302632</td>\n",
              "      <td>-0.653509</td>\n",
              "      <td>0.333333</td>\n",
              "      <td>-0.750000</td>\n",
              "      <td>0</td>\n",
              "    </tr>\n",
              "    <tr>\n",
              "      <th>2</th>\n",
              "      <td>0.0</td>\n",
              "      <td>0.0</td>\n",
              "      <td>-0.099602</td>\n",
              "      <td>0.215139</td>\n",
              "      <td>-0.286853</td>\n",
              "      <td>0.362550</td>\n",
              "      <td>-0.366534</td>\n",
              "      <td>0.270916</td>\n",
              "      <td>-0.442231</td>\n",
              "      <td>0.003984</td>\n",
              "      <td>...</td>\n",
              "      <td>-0.155378</td>\n",
              "      <td>-0.521912</td>\n",
              "      <td>-0.657371</td>\n",
              "      <td>-0.163347</td>\n",
              "      <td>-0.426295</td>\n",
              "      <td>-0.095618</td>\n",
              "      <td>-0.310757</td>\n",
              "      <td>-0.203187</td>\n",
              "      <td>-0.334661</td>\n",
              "      <td>0</td>\n",
              "    </tr>\n",
              "    <tr>\n",
              "      <th>3</th>\n",
              "      <td>0.0</td>\n",
              "      <td>0.0</td>\n",
              "      <td>0.242537</td>\n",
              "      <td>-0.115672</td>\n",
              "      <td>0.347015</td>\n",
              "      <td>-0.272388</td>\n",
              "      <td>0.350746</td>\n",
              "      <td>-0.414179</td>\n",
              "      <td>0.335821</td>\n",
              "      <td>-0.537313</td>\n",
              "      <td>...</td>\n",
              "      <td>-0.951493</td>\n",
              "      <td>-0.175373</td>\n",
              "      <td>-0.335821</td>\n",
              "      <td>-0.194030</td>\n",
              "      <td>-0.552239</td>\n",
              "      <td>-0.201493</td>\n",
              "      <td>-0.679104</td>\n",
              "      <td>-0.205224</td>\n",
              "      <td>-0.805970</td>\n",
              "      <td>0</td>\n",
              "    </tr>\n",
              "    <tr>\n",
              "      <th>4</th>\n",
              "      <td>0.0</td>\n",
              "      <td>0.0</td>\n",
              "      <td>-0.215000</td>\n",
              "      <td>-0.050000</td>\n",
              "      <td>-0.410000</td>\n",
              "      <td>-0.165000</td>\n",
              "      <td>-0.565000</td>\n",
              "      <td>-0.250000</td>\n",
              "      <td>-0.710000</td>\n",
              "      <td>-0.250000</td>\n",
              "      <td>...</td>\n",
              "      <td>-0.960000</td>\n",
              "      <td>0.110000</td>\n",
              "      <td>-0.450000</td>\n",
              "      <td>0.200000</td>\n",
              "      <td>-0.590000</td>\n",
              "      <td>0.260000</td>\n",
              "      <td>-0.680000</td>\n",
              "      <td>0.310000</td>\n",
              "      <td>-0.765000</td>\n",
              "      <td>0</td>\n",
              "    </tr>\n",
              "  </tbody>\n",
              "</table>\n",
              "<p>5 rows × 43 columns</p>\n",
              "</div>"
            ],
            "text/plain": [
              "   0.0  0.0.1  0.23605150214592274  -0.3776824034334764  0.30472103004291845  \\\n",
              "0  0.0    0.0            -0.404858            -0.040486            -0.708502   \n",
              "1  0.0    0.0            -0.188596            -0.083333            -0.337719   \n",
              "2  0.0    0.0            -0.099602             0.215139            -0.286853   \n",
              "3  0.0    0.0             0.242537            -0.115672             0.347015   \n",
              "4  0.0    0.0            -0.215000            -0.050000            -0.410000   \n",
              "\n",
              "   -0.630901287553648  0.3605150214592275  -0.8412017167381974  \\\n",
              "0           -0.048583           -0.923077             0.028340   \n",
              "1           -0.232456           -0.442982            -0.364035   \n",
              "2            0.362550           -0.366534             0.270916   \n",
              "3           -0.272388            0.350746            -0.414179   \n",
              "4           -0.165000           -0.565000            -0.250000   \n",
              "\n",
              "   0.2832618025751073  -0.9957081545064378  ...  -0.5150214592274678  \\\n",
              "0           -0.846154             0.048583  ...             0.064777   \n",
              "1           -0.535088            -0.451754  ...            -0.934211   \n",
              "2           -0.442231             0.003984  ...            -0.155378   \n",
              "3            0.335821            -0.537313  ...            -0.951493   \n",
              "4           -0.710000            -0.250000  ...            -0.960000   \n",
              "\n",
              "   -0.2017167381974249  -0.5793991416309013  0.11158798283261803  \\\n",
              "0            -0.012146            -0.080972            -0.372470   \n",
              "1             0.188596            -0.399123             0.258772   \n",
              "2            -0.521912            -0.657371            -0.163347   \n",
              "3            -0.175373            -0.335821            -0.194030   \n",
              "4             0.110000            -0.450000             0.200000   \n",
              "\n",
              "   -0.6738197424892703.1  0.15450643776824036  -0.51931330472103  \\\n",
              "0               0.287449            -0.315789           0.283401   \n",
              "1              -0.552632             0.302632          -0.653509   \n",
              "2              -0.426295            -0.095618          -0.310757   \n",
              "3              -0.552239            -0.201493          -0.679104   \n",
              "4              -0.590000             0.260000          -0.680000   \n",
              "\n",
              "   0.04721030042918455  -0.4592274678111588  0  \n",
              "0            -0.214575             0.145749  0  \n",
              "1             0.333333            -0.750000  0  \n",
              "2            -0.203187            -0.334661  0  \n",
              "3            -0.205224            -0.805970  0  \n",
              "4             0.310000            -0.765000  0  \n",
              "\n",
              "[5 rows x 43 columns]"
            ]
          },
          "execution_count": 5,
          "metadata": {},
          "output_type": "execute_result"
        }
      ],
      "source": [
        "balanced_data.head()"
      ]
    },
    {
      "cell_type": "code",
      "execution_count": 6,
      "metadata": {},
      "outputs": [
        {
          "data": {
            "image/png": "[encoded data removed]",
            "text/plain": [
              "<Figure size 640x480 with 1 Axes>"
            ]
          },
          "metadata": {},
          "output_type": "display_data"
        }
      ],
      "source": [
        "balanced_data[\"0\"].value_counts().plot(kind='bar', title='Count (target)');"
      ]
    },
    {
      "cell_type": "code",
      "execution_count": 7,
      "metadata": {},
      "outputs": [
        {
          "data": {
            "text/plain": [
              "28480"
            ]
          },
          "execution_count": 7,
          "metadata": {},
          "output_type": "execute_result"
        }
      ],
      "source": [
        "balanced_data[\"0\"].count()"
      ]
    },
    {
      "cell_type": "code",
      "execution_count": 8,
      "metadata": {},
      "outputs": [
        {
          "data": {
            "text/plain": [
              "array([[ 0.        ,  0.        , -0.4048583 , ...,  0.28340081,\n",
              "        -0.2145749 ,  0.14574899],\n",
              "       [ 0.        ,  0.        , -0.18859649, ..., -0.65350877,\n",
              "         0.33333333, -0.75      ],\n",
              "       [ 0.        ,  0.        , -0.09960159, ..., -0.31075697,\n",
              "        -0.20318725, -0.33466135],\n",
              "       ...,\n",
              "       [ 0.        ,  0.        ,  0.27819549, ...,  0.4887218 ,\n",
              "        -0.26315789,  0.44360902],\n",
              "       [ 0.        ,  0.        ,  0.28712871, ...,  0.43564356,\n",
              "        -0.14851485,  0.3960396 ],\n",
              "       [ 0.        ,  0.        ,  0.22916667, ...,  0.40972222,\n",
              "        -0.27777778,  0.41666667]])"
            ]
          },
          "execution_count": 8,
          "metadata": {},
          "output_type": "execute_result"
        }
      ],
      "source": [
        "X_dataset = np.array(balanced_data.drop(balance_by, axis=1))\n",
        "X_dataset"
      ]
    },
    {
      "cell_type": "code",
      "execution_count": 9,
      "metadata": {},
      "outputs": [
        {
          "data": {
            "text/plain": [
              "array([0, 0, 0, ..., 6, 6, 6], dtype=int64)"
            ]
          },
          "execution_count": 9,
          "metadata": {},
          "output_type": "execute_result"
        }
      ],
      "source": [
        "y_dataset = np.array(balanced_data[balance_by])\n",
        "y_dataset"
      ]
    },
    {
      "cell_type": "code",
      "execution_count": 10,
      "metadata": {
        "id": "xQU7JTZ_9hE0"
      },
      "outputs": [],
      "source": [
        "X_train, X_test, y_train, y_test = train_test_split(X_dataset, y_dataset, train_size=0.75, random_state=RANDOM_SEED)"
      ]
    },
    {
      "cell_type": "markdown",
      "metadata": {
        "id": "mxK_lETT9hE0"
      },
      "source": [
        "# Model building"
      ]
    },
    {
      "cell_type": "code",
      "execution_count": 11,
      "metadata": {
        "id": "vHBmUf1t9hE1"
      },
      "outputs": [
        {
          "name": "stdout",
          "output_type": "stream",
          "text": [
            "WARNING:tensorflow:From c:\\Year 3\\FYP\\Modelling\\fyp_modelling\\lib\\site-packages\\keras\\src\\backend.py:1398: The name tf.executing_eagerly_outside_functions is deprecated. Please use tf.compat.v1.executing_eagerly_outside_functions instead.\n",
            "\n"
          ]
        }
      ],
      "source": [
        "model = tf.keras.models.Sequential([\n",
        "    tf.keras.layers.Input((21 * 2, )),\n",
        "    tf.keras.layers.Dropout(0.2),\n",
        "    tf.keras.layers.Dense(20, activation='relu'),\n",
        "    tf.keras.layers.Dropout(0.4),\n",
        "    tf.keras.layers.Dense(10, activation='relu'),\n",
        "    tf.keras.layers.Dense(NUM_CLASSES, activation='softmax')\n",
        "])"
      ]
    },
    {
      "cell_type": "code",
      "execution_count": 12,
      "metadata": {
        "colab": {
          "base_uri": "https://localhost:8080/"
        },
        "id": "ypqky9tc9hE1",
        "outputId": "50df0ea3-9b0b-4a09-9378-f238d1602e01"
      },
      "outputs": [
        {
          "name": "stdout",
          "output_type": "stream",
          "text": [
            "Model: \"sequential\"\n",
            "_________________________________________________________________\n",
            " Layer (type)                Output Shape              Param #   \n",
            "=================================================================\n",
            " dropout (Dropout)           (None, 42)                0         \n",
            "                                                                 \n",
            " dense (Dense)               (None, 20)                860       \n",
            "                                                                 \n",
            " dropout_1 (Dropout)         (None, 20)                0         \n",
            "                                                                 \n",
            " dense_1 (Dense)             (None, 10)                210       \n",
            "                                                                 \n",
            " dense_2 (Dense)             (None, 8)                 88        \n",
            "                                                                 \n",
            "=================================================================\n",
            "Total params: 1158 (4.52 KB)\n",
            "Trainable params: 1158 (4.52 KB)\n",
            "Non-trainable params: 0 (0.00 Byte)\n",
            "_________________________________________________________________\n"
          ]
        }
      ],
      "source": [
        "model.summary()  # tf.keras.utils.plot_model(model, show_shapes=True)"
      ]
    },
    {
      "cell_type": "code",
      "execution_count": 13,
      "metadata": {
        "id": "MbMjOflQ9hE1"
      },
      "outputs": [],
      "source": [
        "# Model checkpoint callback\n",
        "cp_callback = tf.keras.callbacks.ModelCheckpoint(\n",
        "    model_save_path, verbose=1, save_weights_only=False)\n",
        "# Callback for early stopping\n",
        "es_callback = tf.keras.callbacks.EarlyStopping(patience=20, verbose=1)"
      ]
    },
    {
      "cell_type": "code",
      "execution_count": 14,
      "metadata": {
        "id": "c3Dac0M_9hE2"
      },
      "outputs": [
        {
          "name": "stdout",
          "output_type": "stream",
          "text": [
            "WARNING:tensorflow:From c:\\Year 3\\FYP\\Modelling\\fyp_modelling\\lib\\site-packages\\keras\\src\\optimizers\\__init__.py:309: The name tf.train.Optimizer is deprecated. Please use tf.compat.v1.train.Optimizer instead.\n",
            "\n"
          ]
        }
      ],
      "source": [
        "# Model compilation\n",
        "model.compile(\n",
        "    optimizer='adam',\n",
        "    loss='sparse_categorical_crossentropy',\n",
        "    metrics=['accuracy']\n",
        ")"
      ]
    },
    {
      "cell_type": "markdown",
      "metadata": {
        "id": "7XI0j1Iu9hE2"
      },
      "source": [
        "# Model training"
      ]
    },
    {
      "cell_type": "code",
      "execution_count": 15,
      "metadata": {
        "colab": {
          "base_uri": "https://localhost:8080/"
        },
        "id": "WirBl-JE9hE3",
        "outputId": "cdb63228-c6af-405b-8cf4-11bef3347226",
        "scrolled": true
      },
      "outputs": [
        {
          "name": "stdout",
          "output_type": "stream",
          "text": [
            "Epoch 1/1000\n",
            "WARNING:tensorflow:From c:\\Year 3\\FYP\\Modelling\\fyp_modelling\\lib\\site-packages\\keras\\src\\utils\\tf_utils.py:492: The name tf.ragged.RaggedTensorValue is deprecated. Please use tf.compat.v1.ragged.RaggedTensorValue instead.\n",
            "\n",
            "WARNING:tensorflow:From c:\\Year 3\\FYP\\Modelling\\fyp_modelling\\lib\\site-packages\\keras\\src\\engine\\base_layer_utils.py:384: The name tf.executing_eagerly_outside_functions is deprecated. Please use tf.compat.v1.executing_eagerly_outside_functions instead.\n",
            "\n",
            "164/167 [============================>.] - ETA: 0s - loss: 1.8187 - accuracy: 0.2875\n",
            "Epoch 1: saving model to ../model/keypoint_classifier\\new_keypoint.hdf5\n",
            "167/167 [==============================] - 2s 5ms/step - loss: 1.8140 - accuracy: 0.2905 - val_loss: 1.4088 - val_accuracy: 0.5334\n",
            "Epoch 2/1000\n",
            " 37/167 [=====>........................] - ETA: 0s - loss: 1.4893 - accuracy: 0.4409"
          ]
        },
        {
          "name": "stderr",
          "output_type": "stream",
          "text": [
            "c:\\Year 3\\FYP\\Modelling\\fyp_modelling\\lib\\site-packages\\keras\\src\\engine\\training.py:3103: UserWarning: You are saving your model as an HDF5 file via `model.save()`. This file format is considered legacy. We recommend using instead the native Keras format, e.g. `model.save('my_model.keras')`.\n",
            "  saving_api.save_model(\n"
          ]
        },
        {
          "name": "stdout",
          "output_type": "stream",
          "text": [
            "149/167 [=========================>....] - ETA: 0s - loss: 1.3809 - accuracy: 0.4773\n",
            "Epoch 2: saving model to ../model/keypoint_classifier\\new_keypoint.hdf5\n",
            "167/167 [==============================] - 1s 4ms/step - loss: 1.3637 - accuracy: 0.4840 - val_loss: 1.0256 - val_accuracy: 0.6215\n",
            "Epoch 3/1000\n",
            "153/167 [==========================>...] - ETA: 0s - loss: 1.1812 - accuracy: 0.5654\n",
            "Epoch 3: saving model to ../model/keypoint_classifier\\new_keypoint.hdf5\n",
            "167/167 [==============================] - 1s 3ms/step - loss: 1.1775 - accuracy: 0.5676 - val_loss: 0.8884 - val_accuracy: 0.7374\n",
            "Epoch 4/1000\n",
            "158/167 [===========================>..] - ETA: 0s - loss: 1.0786 - accuracy: 0.6131\n",
            "Epoch 4: saving model to ../model/keypoint_classifier\\new_keypoint.hdf5\n",
            "167/167 [==============================] - 1s 4ms/step - loss: 1.0773 - accuracy: 0.6136 - val_loss: 0.7910 - val_accuracy: 0.7611\n",
            "Epoch 5/1000\n",
            "152/167 [==========================>...] - ETA: 0s - loss: 1.0090 - accuracy: 0.6469\n",
            "Epoch 5: saving model to ../model/keypoint_classifier\\new_keypoint.hdf5\n",
            "167/167 [==============================] - 1s 4ms/step - loss: 1.0050 - accuracy: 0.6489 - val_loss: 0.7076 - val_accuracy: 0.8140\n",
            "Epoch 6/1000\n",
            "155/167 [==========================>...] - ETA: 0s - loss: 0.9727 - accuracy: 0.6631\n",
            "Epoch 6: saving model to ../model/keypoint_classifier\\new_keypoint.hdf5\n",
            "167/167 [==============================] - 1s 4ms/step - loss: 0.9688 - accuracy: 0.6642 - val_loss: 0.6579 - val_accuracy: 0.8274\n",
            "Epoch 7/1000\n",
            "161/167 [===========================>..] - ETA: 0s - loss: 0.9485 - accuracy: 0.6759\n",
            "Epoch 7: saving model to ../model/keypoint_classifier\\new_keypoint.hdf5\n",
            "167/167 [==============================] - 1s 4ms/step - loss: 0.9478 - accuracy: 0.6764 - val_loss: 0.6246 - val_accuracy: 0.8508\n",
            "Epoch 8/1000\n",
            "166/167 [============================>.] - ETA: 0s - loss: 0.9147 - accuracy: 0.6900\n",
            "Epoch 8: saving model to ../model/keypoint_classifier\\new_keypoint.hdf5\n",
            "167/167 [==============================] - 1s 3ms/step - loss: 0.9148 - accuracy: 0.6897 - val_loss: 0.5953 - val_accuracy: 0.8406\n",
            "Epoch 9/1000\n",
            "152/167 [==========================>...] - ETA: 0s - loss: 0.8929 - accuracy: 0.6977\n",
            "Epoch 9: saving model to ../model/keypoint_classifier\\new_keypoint.hdf5\n",
            "167/167 [==============================] - 1s 3ms/step - loss: 0.8943 - accuracy: 0.6973 - val_loss: 0.5774 - val_accuracy: 0.8646\n",
            "Epoch 10/1000\n",
            "150/167 [=========================>....] - ETA: 0s - loss: 0.8880 - accuracy: 0.7004\n",
            "Epoch 10: saving model to ../model/keypoint_classifier\\new_keypoint.hdf5\n",
            "167/167 [==============================] - 1s 4ms/step - loss: 0.8873 - accuracy: 0.7004 - val_loss: 0.5555 - val_accuracy: 0.8735\n",
            "Epoch 11/1000\n",
            "155/167 [==========================>...] - ETA: 0s - loss: 0.8691 - accuracy: 0.7047\n",
            "Epoch 11: saving model to ../model/keypoint_classifier\\new_keypoint.hdf5\n",
            "167/167 [==============================] - 1s 4ms/step - loss: 0.8676 - accuracy: 0.7054 - val_loss: 0.5412 - val_accuracy: 0.8760\n",
            "Epoch 12/1000\n",
            "149/167 [=========================>....] - ETA: 0s - loss: 0.8561 - accuracy: 0.7132\n",
            "Epoch 12: saving model to ../model/keypoint_classifier\\new_keypoint.hdf5\n",
            "167/167 [==============================] - 1s 4ms/step - loss: 0.8530 - accuracy: 0.7156 - val_loss: 0.5286 - val_accuracy: 0.8763\n",
            "Epoch 13/1000\n",
            "163/167 [============================>.] - ETA: 0s - loss: 0.8460 - accuracy: 0.7200\n",
            "Epoch 13: saving model to ../model/keypoint_classifier\\new_keypoint.hdf5\n",
            "167/167 [==============================] - 1s 4ms/step - loss: 0.8452 - accuracy: 0.7197 - val_loss: 0.5209 - val_accuracy: 0.8796\n",
            "Epoch 14/1000\n",
            "163/167 [============================>.] - ETA: 0s - loss: 0.8431 - accuracy: 0.7205\n",
            "Epoch 14: saving model to ../model/keypoint_classifier\\new_keypoint.hdf5\n",
            "167/167 [==============================] - 1s 4ms/step - loss: 0.8425 - accuracy: 0.7209 - val_loss: 0.5168 - val_accuracy: 0.8718\n",
            "Epoch 15/1000\n",
            "159/167 [===========================>..] - ETA: 0s - loss: 0.8385 - accuracy: 0.7207\n",
            "Epoch 15: saving model to ../model/keypoint_classifier\\new_keypoint.hdf5\n",
            "167/167 [==============================] - 1s 4ms/step - loss: 0.8375 - accuracy: 0.7218 - val_loss: 0.5101 - val_accuracy: 0.8763\n",
            "Epoch 16/1000\n",
            "167/167 [==============================] - ETA: 0s - loss: 0.8222 - accuracy: 0.7295\n",
            "Epoch 16: saving model to ../model/keypoint_classifier\\new_keypoint.hdf5\n",
            "167/167 [==============================] - 1s 5ms/step - loss: 0.8222 - accuracy: 0.7295 - val_loss: 0.4987 - val_accuracy: 0.8829\n",
            "Epoch 17/1000\n",
            "157/167 [===========================>..] - ETA: 0s - loss: 0.8241 - accuracy: 0.7263\n",
            "Epoch 17: saving model to ../model/keypoint_classifier\\new_keypoint.hdf5\n",
            "167/167 [==============================] - 1s 4ms/step - loss: 0.8217 - accuracy: 0.7266 - val_loss: 0.4995 - val_accuracy: 0.8772\n",
            "Epoch 18/1000\n",
            "155/167 [==========================>...] - ETA: 0s - loss: 0.8226 - accuracy: 0.7288\n",
            "Epoch 18: saving model to ../model/keypoint_classifier\\new_keypoint.hdf5\n",
            "167/167 [==============================] - 0s 3ms/step - loss: 0.8253 - accuracy: 0.7281 - val_loss: 0.4952 - val_accuracy: 0.8771\n",
            "Epoch 19/1000\n",
            "148/167 [=========================>....] - ETA: 0s - loss: 0.8069 - accuracy: 0.7319\n",
            "Epoch 19: saving model to ../model/keypoint_classifier\\new_keypoint.hdf5\n",
            "167/167 [==============================] - 0s 2ms/step - loss: 0.8063 - accuracy: 0.7330 - val_loss: 0.4810 - val_accuracy: 0.8954\n",
            "Epoch 20/1000\n",
            "164/167 [============================>.] - ETA: 0s - loss: 0.8039 - accuracy: 0.7344\n",
            "Epoch 20: saving model to ../model/keypoint_classifier\\new_keypoint.hdf5\n",
            "167/167 [==============================] - 0s 3ms/step - loss: 0.8038 - accuracy: 0.7341 - val_loss: 0.4862 - val_accuracy: 0.8846\n",
            "Epoch 21/1000\n",
            "167/167 [==============================] - ETA: 0s - loss: 0.8039 - accuracy: 0.7341\n",
            "Epoch 21: saving model to ../model/keypoint_classifier\\new_keypoint.hdf5\n",
            "167/167 [==============================] - 0s 2ms/step - loss: 0.8039 - accuracy: 0.7341 - val_loss: 0.4848 - val_accuracy: 0.8897\n",
            "Epoch 22/1000\n",
            "164/167 [============================>.] - ETA: 0s - loss: 0.8056 - accuracy: 0.7325\n",
            "Epoch 22: saving model to ../model/keypoint_classifier\\new_keypoint.hdf5\n",
            "167/167 [==============================] - 0s 3ms/step - loss: 0.8067 - accuracy: 0.7321 - val_loss: 0.4822 - val_accuracy: 0.8921\n",
            "Epoch 23/1000\n",
            "166/167 [============================>.] - ETA: 0s - loss: 0.7961 - accuracy: 0.7374\n",
            "Epoch 23: saving model to ../model/keypoint_classifier\\new_keypoint.hdf5\n",
            "167/167 [==============================] - 0s 2ms/step - loss: 0.7969 - accuracy: 0.7371 - val_loss: 0.4728 - val_accuracy: 0.8867\n",
            "Epoch 24/1000\n",
            "163/167 [============================>.] - ETA: 0s - loss: 0.7905 - accuracy: 0.7397\n",
            "Epoch 24: saving model to ../model/keypoint_classifier\\new_keypoint.hdf5\n",
            "167/167 [==============================] - 0s 3ms/step - loss: 0.7903 - accuracy: 0.7396 - val_loss: 0.4747 - val_accuracy: 0.8882\n",
            "Epoch 25/1000\n",
            "140/167 [========================>.....] - ETA: 0s - loss: 0.7949 - accuracy: 0.7376\n",
            "Epoch 25: saving model to ../model/keypoint_classifier\\new_keypoint.hdf5\n",
            "167/167 [==============================] - 0s 3ms/step - loss: 0.7911 - accuracy: 0.7387 - val_loss: 0.4676 - val_accuracy: 0.8944\n",
            "Epoch 26/1000\n",
            "163/167 [============================>.] - ETA: 0s - loss: 0.7793 - accuracy: 0.7433\n",
            "Epoch 26: saving model to ../model/keypoint_classifier\\new_keypoint.hdf5\n",
            "167/167 [==============================] - 0s 3ms/step - loss: 0.7797 - accuracy: 0.7431 - val_loss: 0.4782 - val_accuracy: 0.8850\n",
            "Epoch 27/1000\n",
            "162/167 [============================>.] - ETA: 0s - loss: 0.7829 - accuracy: 0.7435\n",
            "Epoch 27: saving model to ../model/keypoint_classifier\\new_keypoint.hdf5\n",
            "167/167 [==============================] - 0s 3ms/step - loss: 0.7826 - accuracy: 0.7435 - val_loss: 0.4712 - val_accuracy: 0.8903\n",
            "Epoch 28/1000\n",
            "167/167 [==============================] - ETA: 0s - loss: 0.7867 - accuracy: 0.7422\n",
            "Epoch 28: saving model to ../model/keypoint_classifier\\new_keypoint.hdf5\n",
            "167/167 [==============================] - 0s 2ms/step - loss: 0.7867 - accuracy: 0.7422 - val_loss: 0.4723 - val_accuracy: 0.8889\n",
            "Epoch 29/1000\n",
            "148/167 [=========================>....] - ETA: 0s - loss: 0.7778 - accuracy: 0.7441\n",
            "Epoch 29: saving model to ../model/keypoint_classifier\\new_keypoint.hdf5\n",
            "167/167 [==============================] - 0s 2ms/step - loss: 0.7817 - accuracy: 0.7433 - val_loss: 0.4713 - val_accuracy: 0.8830\n",
            "Epoch 30/1000\n",
            "145/167 [=========================>....] - ETA: 0s - loss: 0.7817 - accuracy: 0.7415\n",
            "Epoch 30: saving model to ../model/keypoint_classifier\\new_keypoint.hdf5\n",
            "167/167 [==============================] - 0s 2ms/step - loss: 0.7791 - accuracy: 0.7423 - val_loss: 0.4650 - val_accuracy: 0.8934\n",
            "Epoch 31/1000\n",
            "151/167 [==========================>...] - ETA: 0s - loss: 0.7743 - accuracy: 0.7454\n",
            "Epoch 31: saving model to ../model/keypoint_classifier\\new_keypoint.hdf5\n",
            "167/167 [==============================] - 0s 2ms/step - loss: 0.7770 - accuracy: 0.7441 - val_loss: 0.4659 - val_accuracy: 0.8900\n",
            "Epoch 32/1000\n",
            "162/167 [============================>.] - ETA: 0s - loss: 0.7778 - accuracy: 0.7422\n",
            "Epoch 32: saving model to ../model/keypoint_classifier\\new_keypoint.hdf5\n",
            "167/167 [==============================] - 0s 3ms/step - loss: 0.7785 - accuracy: 0.7416 - val_loss: 0.4655 - val_accuracy: 0.8930\n",
            "Epoch 33/1000\n",
            "147/167 [=========================>....] - ETA: 0s - loss: 0.7712 - accuracy: 0.7425\n",
            "Epoch 33: saving model to ../model/keypoint_classifier\\new_keypoint.hdf5\n",
            "167/167 [==============================] - 0s 2ms/step - loss: 0.7702 - accuracy: 0.7437 - val_loss: 0.4699 - val_accuracy: 0.8919\n",
            "Epoch 34/1000\n",
            "153/167 [==========================>...] - ETA: 0s - loss: 0.7729 - accuracy: 0.7441\n",
            "Epoch 34: saving model to ../model/keypoint_classifier\\new_keypoint.hdf5\n",
            "167/167 [==============================] - 0s 2ms/step - loss: 0.7766 - accuracy: 0.7434 - val_loss: 0.4663 - val_accuracy: 0.8868\n",
            "Epoch 35/1000\n",
            "140/167 [========================>.....] - ETA: 0s - loss: 0.7746 - accuracy: 0.7459\n",
            "Epoch 35: saving model to ../model/keypoint_classifier\\new_keypoint.hdf5\n",
            "167/167 [==============================] - 0s 2ms/step - loss: 0.7726 - accuracy: 0.7454 - val_loss: 0.4646 - val_accuracy: 0.8945\n",
            "Epoch 36/1000\n",
            "146/167 [=========================>....] - ETA: 0s - loss: 0.7711 - accuracy: 0.7450\n",
            "Epoch 36: saving model to ../model/keypoint_classifier\\new_keypoint.hdf5\n",
            "167/167 [==============================] - 0s 2ms/step - loss: 0.7732 - accuracy: 0.7453 - val_loss: 0.4660 - val_accuracy: 0.8979\n",
            "Epoch 37/1000\n",
            "159/167 [===========================>..] - ETA: 0s - loss: 0.7607 - accuracy: 0.7460\n",
            "Epoch 37: saving model to ../model/keypoint_classifier\\new_keypoint.hdf5\n",
            "167/167 [==============================] - 0s 3ms/step - loss: 0.7604 - accuracy: 0.7462 - val_loss: 0.4603 - val_accuracy: 0.8955\n",
            "Epoch 38/1000\n",
            "156/167 [===========================>..] - ETA: 0s - loss: 0.7537 - accuracy: 0.7509\n",
            "Epoch 38: saving model to ../model/keypoint_classifier\\new_keypoint.hdf5\n",
            "167/167 [==============================] - 0s 2ms/step - loss: 0.7553 - accuracy: 0.7508 - val_loss: 0.4612 - val_accuracy: 0.8954\n",
            "Epoch 39/1000\n",
            "145/167 [=========================>....] - ETA: 0s - loss: 0.7574 - accuracy: 0.7482\n",
            "Epoch 39: saving model to ../model/keypoint_classifier\\new_keypoint.hdf5\n",
            "167/167 [==============================] - 0s 3ms/step - loss: 0.7545 - accuracy: 0.7480 - val_loss: 0.4573 - val_accuracy: 0.8978\n",
            "Epoch 40/1000\n",
            "157/167 [===========================>..] - ETA: 0s - loss: 0.7586 - accuracy: 0.7486\n",
            "Epoch 40: saving model to ../model/keypoint_classifier\\new_keypoint.hdf5\n",
            "167/167 [==============================] - 0s 3ms/step - loss: 0.7595 - accuracy: 0.7485 - val_loss: 0.4582 - val_accuracy: 0.8963\n",
            "Epoch 41/1000\n",
            "159/167 [===========================>..] - ETA: 0s - loss: 0.7540 - accuracy: 0.7528\n",
            "Epoch 41: saving model to ../model/keypoint_classifier\\new_keypoint.hdf5\n",
            "167/167 [==============================] - 0s 3ms/step - loss: 0.7566 - accuracy: 0.7525 - val_loss: 0.4637 - val_accuracy: 0.8994\n",
            "Epoch 42/1000\n",
            "142/167 [========================>.....] - ETA: 0s - loss: 0.7545 - accuracy: 0.7544\n",
            "Epoch 42: saving model to ../model/keypoint_classifier\\new_keypoint.hdf5\n",
            "167/167 [==============================] - 0s 2ms/step - loss: 0.7527 - accuracy: 0.7553 - val_loss: 0.4675 - val_accuracy: 0.8885\n",
            "Epoch 43/1000\n",
            "146/167 [=========================>....] - ETA: 0s - loss: 0.7462 - accuracy: 0.7538\n",
            "Epoch 43: saving model to ../model/keypoint_classifier\\new_keypoint.hdf5\n",
            "167/167 [==============================] - 0s 2ms/step - loss: 0.7460 - accuracy: 0.7554 - val_loss: 0.4524 - val_accuracy: 0.9001\n",
            "Epoch 44/1000\n",
            "139/167 [=======================>......] - ETA: 0s - loss: 0.7557 - accuracy: 0.7519\n",
            "Epoch 44: saving model to ../model/keypoint_classifier\\new_keypoint.hdf5\n",
            "167/167 [==============================] - 0s 3ms/step - loss: 0.7557 - accuracy: 0.7521 - val_loss: 0.4558 - val_accuracy: 0.8969\n",
            "Epoch 45/1000\n",
            "159/167 [===========================>..] - ETA: 0s - loss: 0.7463 - accuracy: 0.7582\n",
            "Epoch 45: saving model to ../model/keypoint_classifier\\new_keypoint.hdf5\n",
            "167/167 [==============================] - 0s 3ms/step - loss: 0.7434 - accuracy: 0.7596 - val_loss: 0.4494 - val_accuracy: 0.8987\n",
            "Epoch 46/1000\n",
            "144/167 [========================>.....] - ETA: 0s - loss: 0.7427 - accuracy: 0.7584\n",
            "Epoch 46: saving model to ../model/keypoint_classifier\\new_keypoint.hdf5\n",
            "167/167 [==============================] - 0s 2ms/step - loss: 0.7416 - accuracy: 0.7581 - val_loss: 0.4620 - val_accuracy: 0.8987\n",
            "Epoch 47/1000\n",
            "144/167 [========================>.....] - ETA: 0s - loss: 0.7383 - accuracy: 0.7578\n",
            "Epoch 47: saving model to ../model/keypoint_classifier\\new_keypoint.hdf5\n",
            "167/167 [==============================] - 0s 2ms/step - loss: 0.7365 - accuracy: 0.7581 - val_loss: 0.4549 - val_accuracy: 0.8999\n",
            "Epoch 48/1000\n",
            "146/167 [=========================>....] - ETA: 0s - loss: 0.7381 - accuracy: 0.7570\n",
            "Epoch 48: saving model to ../model/keypoint_classifier\\new_keypoint.hdf5\n",
            "167/167 [==============================] - 0s 2ms/step - loss: 0.7341 - accuracy: 0.7574 - val_loss: 0.4565 - val_accuracy: 0.8904\n",
            "Epoch 49/1000\n",
            "141/167 [========================>.....] - ETA: 0s - loss: 0.7360 - accuracy: 0.7628\n",
            "Epoch 49: saving model to ../model/keypoint_classifier\\new_keypoint.hdf5\n",
            "167/167 [==============================] - 0s 2ms/step - loss: 0.7349 - accuracy: 0.7618 - val_loss: 0.4426 - val_accuracy: 0.9021\n",
            "Epoch 50/1000\n",
            "159/167 [===========================>..] - ETA: 0s - loss: 0.7345 - accuracy: 0.7615\n",
            "Epoch 50: saving model to ../model/keypoint_classifier\\new_keypoint.hdf5\n",
            "167/167 [==============================] - 0s 3ms/step - loss: 0.7357 - accuracy: 0.7616 - val_loss: 0.4520 - val_accuracy: 0.9051\n",
            "Epoch 51/1000\n",
            "143/167 [========================>.....] - ETA: 0s - loss: 0.7312 - accuracy: 0.7637\n",
            "Epoch 51: saving model to ../model/keypoint_classifier\\new_keypoint.hdf5\n",
            "167/167 [==============================] - 0s 2ms/step - loss: 0.7314 - accuracy: 0.7629 - val_loss: 0.4667 - val_accuracy: 0.8979\n",
            "Epoch 52/1000\n",
            "148/167 [=========================>....] - ETA: 0s - loss: 0.7234 - accuracy: 0.7655\n",
            "Epoch 52: saving model to ../model/keypoint_classifier\\new_keypoint.hdf5\n",
            "167/167 [==============================] - 0s 3ms/step - loss: 0.7228 - accuracy: 0.7654 - val_loss: 0.4528 - val_accuracy: 0.8989\n",
            "Epoch 53/1000\n",
            "165/167 [============================>.] - ETA: 0s - loss: 0.7206 - accuracy: 0.7659\n",
            "Epoch 53: saving model to ../model/keypoint_classifier\\new_keypoint.hdf5\n",
            "167/167 [==============================] - 0s 3ms/step - loss: 0.7212 - accuracy: 0.7658 - val_loss: 0.4525 - val_accuracy: 0.9028\n",
            "Epoch 54/1000\n",
            "162/167 [============================>.] - ETA: 0s - loss: 0.7173 - accuracy: 0.7637\n",
            "Epoch 54: saving model to ../model/keypoint_classifier\\new_keypoint.hdf5\n",
            "167/167 [==============================] - 0s 3ms/step - loss: 0.7190 - accuracy: 0.7632 - val_loss: 0.4507 - val_accuracy: 0.9020\n",
            "Epoch 55/1000\n",
            "152/167 [==========================>...] - ETA: 0s - loss: 0.7208 - accuracy: 0.7680\n",
            "Epoch 55: saving model to ../model/keypoint_classifier\\new_keypoint.hdf5\n",
            "167/167 [==============================] - 0s 2ms/step - loss: 0.7214 - accuracy: 0.7678 - val_loss: 0.4457 - val_accuracy: 0.8971\n",
            "Epoch 56/1000\n",
            "164/167 [============================>.] - ETA: 0s - loss: 0.7334 - accuracy: 0.7630\n",
            "Epoch 56: saving model to ../model/keypoint_classifier\\new_keypoint.hdf5\n",
            "167/167 [==============================] - 0s 3ms/step - loss: 0.7323 - accuracy: 0.7631 - val_loss: 0.4520 - val_accuracy: 0.8987\n",
            "Epoch 57/1000\n",
            "165/167 [============================>.] - ETA: 0s - loss: 0.7215 - accuracy: 0.7660\n",
            "Epoch 57: saving model to ../model/keypoint_classifier\\new_keypoint.hdf5\n",
            "167/167 [==============================] - 0s 3ms/step - loss: 0.7202 - accuracy: 0.7662 - val_loss: 0.4549 - val_accuracy: 0.9001\n",
            "Epoch 58/1000\n",
            "159/167 [===========================>..] - ETA: 0s - loss: 0.7194 - accuracy: 0.7713\n",
            "Epoch 58: saving model to ../model/keypoint_classifier\\new_keypoint.hdf5\n",
            "167/167 [==============================] - 0s 2ms/step - loss: 0.7194 - accuracy: 0.7705 - val_loss: 0.4521 - val_accuracy: 0.9041\n",
            "Epoch 59/1000\n",
            "152/167 [==========================>...] - ETA: 0s - loss: 0.7213 - accuracy: 0.7694\n",
            "Epoch 59: saving model to ../model/keypoint_classifier\\new_keypoint.hdf5\n",
            "167/167 [==============================] - 0s 2ms/step - loss: 0.7197 - accuracy: 0.7694 - val_loss: 0.4547 - val_accuracy: 0.8996\n",
            "Epoch 60/1000\n",
            "156/167 [===========================>..] - ETA: 0s - loss: 0.7158 - accuracy: 0.7688\n",
            "Epoch 60: saving model to ../model/keypoint_classifier\\new_keypoint.hdf5\n",
            "167/167 [==============================] - 0s 2ms/step - loss: 0.7198 - accuracy: 0.7678 - val_loss: 0.4503 - val_accuracy: 0.8980\n",
            "Epoch 61/1000\n",
            "167/167 [==============================] - ETA: 0s - loss: 0.7068 - accuracy: 0.7747\n",
            "Epoch 61: saving model to ../model/keypoint_classifier\\new_keypoint.hdf5\n",
            "167/167 [==============================] - 0s 2ms/step - loss: 0.7068 - accuracy: 0.7747 - val_loss: 0.4536 - val_accuracy: 0.9015\n",
            "Epoch 62/1000\n",
            "151/167 [==========================>...] - ETA: 0s - loss: 0.7161 - accuracy: 0.7734\n",
            "Epoch 62: saving model to ../model/keypoint_classifier\\new_keypoint.hdf5\n",
            "167/167 [==============================] - 0s 2ms/step - loss: 0.7163 - accuracy: 0.7730 - val_loss: 0.4501 - val_accuracy: 0.9024\n",
            "Epoch 63/1000\n",
            "155/167 [==========================>...] - ETA: 0s - loss: 0.7151 - accuracy: 0.7674\n",
            "Epoch 63: saving model to ../model/keypoint_classifier\\new_keypoint.hdf5\n",
            "167/167 [==============================] - 0s 3ms/step - loss: 0.7144 - accuracy: 0.7679 - val_loss: 0.4576 - val_accuracy: 0.8980\n",
            "Epoch 64/1000\n",
            "165/167 [============================>.] - ETA: 0s - loss: 0.7129 - accuracy: 0.7728\n",
            "Epoch 64: saving model to ../model/keypoint_classifier\\new_keypoint.hdf5\n",
            "167/167 [==============================] - 0s 2ms/step - loss: 0.7114 - accuracy: 0.7736 - val_loss: 0.4532 - val_accuracy: 0.9035\n",
            "Epoch 65/1000\n",
            "149/167 [=========================>....] - ETA: 0s - loss: 0.7035 - accuracy: 0.7717\n",
            "Epoch 65: saving model to ../model/keypoint_classifier\\new_keypoint.hdf5\n",
            "167/167 [==============================] - 0s 2ms/step - loss: 0.7027 - accuracy: 0.7719 - val_loss: 0.4494 - val_accuracy: 0.9028\n",
            "Epoch 66/1000\n",
            "152/167 [==========================>...] - ETA: 0s - loss: 0.6981 - accuracy: 0.7777\n",
            "Epoch 66: saving model to ../model/keypoint_classifier\\new_keypoint.hdf5\n",
            "167/167 [==============================] - 0s 2ms/step - loss: 0.6977 - accuracy: 0.7781 - val_loss: 0.4442 - val_accuracy: 0.9021\n",
            "Epoch 67/1000\n",
            "148/167 [=========================>....] - ETA: 0s - loss: 0.7019 - accuracy: 0.7750\n",
            "Epoch 67: saving model to ../model/keypoint_classifier\\new_keypoint.hdf5\n",
            "167/167 [==============================] - 0s 2ms/step - loss: 0.7036 - accuracy: 0.7743 - val_loss: 0.4451 - val_accuracy: 0.9029\n",
            "Epoch 68/1000\n",
            "158/167 [===========================>..] - ETA: 0s - loss: 0.7123 - accuracy: 0.7753\n",
            "Epoch 68: saving model to ../model/keypoint_classifier\\new_keypoint.hdf5\n",
            "167/167 [==============================] - 0s 3ms/step - loss: 0.7101 - accuracy: 0.7761 - val_loss: 0.4439 - val_accuracy: 0.8999\n",
            "Epoch 69/1000\n",
            "157/167 [===========================>..] - ETA: 0s - loss: 0.7050 - accuracy: 0.7735\n",
            "Epoch 69: saving model to ../model/keypoint_classifier\\new_keypoint.hdf5\n",
            "167/167 [==============================] - 0s 3ms/step - loss: 0.7023 - accuracy: 0.7748 - val_loss: 0.4519 - val_accuracy: 0.9025\n",
            "Epoch 69: early stopping\n"
          ]
        },
        {
          "data": {
            "text/plain": [
              "<keras.src.callbacks.History at 0x24c2b8a1fc0>"
            ]
          },
          "execution_count": 15,
          "metadata": {},
          "output_type": "execute_result"
        }
      ],
      "source": [
        "model.fit(\n",
        "    X_train,\n",
        "    y_train,\n",
        "    epochs=1000,\n",
        "    batch_size=128,\n",
        "    validation_data=(X_test, y_test),\n",
        "    callbacks=[cp_callback, es_callback]\n",
        ")"
      ]
    },
    {
      "cell_type": "code",
      "execution_count": 16,
      "metadata": {
        "colab": {
          "base_uri": "https://localhost:8080/"
        },
        "id": "pxvb2Y299hE3",
        "outputId": "7c542df7-e20e-46df-ac4f-fdab884b32aa"
      },
      "outputs": [
        {
          "name": "stdout",
          "output_type": "stream",
          "text": [
            "56/56 [==============================] - 0s 1ms/step - loss: 0.4519 - accuracy: 0.9025\n"
          ]
        }
      ],
      "source": [
        "# Model evaluation\n",
        "val_loss, val_acc = model.evaluate(X_test, y_test, batch_size=128)"
      ]
    },
    {
      "cell_type": "code",
      "execution_count": 17,
      "metadata": {
        "id": "RBkmDeUW9hE4"
      },
      "outputs": [],
      "source": [
        "# Loading the saved model\n",
        "model = tf.keras.models.load_model(model_save_path)"
      ]
    },
    {
      "cell_type": "code",
      "execution_count": 18,
      "metadata": {
        "colab": {
          "base_uri": "https://localhost:8080/"
        },
        "id": "tFz9Tb0I9hE4",
        "outputId": "22602c35-c984-4d41-d165-0ca8268a69c0"
      },
      "outputs": [
        {
          "name": "stdout",
          "output_type": "stream",
          "text": [
            "1/1 [==============================] - 0s 86ms/step\n",
            "[6.3611643e-04 3.6903978e-09 4.7336403e-06 9.3752319e-01 6.1718997e-02\n",
            " 7.5650314e-05 4.0410247e-05 8.8288851e-07]\n",
            "3\n"
          ]
        }
      ],
      "source": [
        "# Inference test\n",
        "predict_result = model.predict(np.array([X_test[0]]))\n",
        "print(np.squeeze(predict_result))\n",
        "print(np.argmax(np.squeeze(predict_result)))"
      ]
    },
    {
      "cell_type": "markdown",
      "metadata": {
        "id": "S3U4yNWx9hE4"
      },
      "source": [
        "# Confusion matrix"
      ]
    },
    {
      "cell_type": "code",
      "execution_count": 19,
      "metadata": {},
      "outputs": [
        {
          "name": "stdout",
          "output_type": "stream",
          "text": [
            "3    930\n",
            "4    905\n",
            "7    894\n",
            "0    892\n",
            "5    887\n",
            "2    882\n",
            "1    875\n",
            "6    855\n",
            "Name: count, dtype: int64\n"
          ]
        }
      ],
      "source": [
        "series = pd.Series(y_test)\n",
        "\n",
        "# Use the value_counts method\n",
        "value_counts_result = series.value_counts()\n",
        "\n",
        "print(value_counts_result)\n"
      ]
    },
    {
      "cell_type": "code",
      "execution_count": 20,
      "metadata": {
        "colab": {
          "base_uri": "https://localhost:8080/",
          "height": 669
        },
        "id": "AP1V6SCk9hE5",
        "outputId": "cd47cd53-d8df-472f-8f49-29f6df6d22a2"
      },
      "outputs": [
        {
          "name": "stdout",
          "output_type": "stream",
          "text": [
            "223/223 [==============================] - 0s 1ms/step\n",
            "[0, 1, 2, 3, 4, 5, 6, 7]\n"
          ]
        },
        {
          "data": {
            "image/png": "[encoded data removed]",
            "text/plain": [
              "<Figure size 700x600 with 2 Axes>"
            ]
          },
          "metadata": {},
          "output_type": "display_data"
        },
        {
          "name": "stdout",
          "output_type": "stream",
          "text": [
            "Classification Report\n",
            "              precision    recall  f1-score   support\n",
            "\n",
            "           0       0.87      0.77      0.82       892\n",
            "           1       0.93      0.88      0.90       875\n",
            "           2       0.83      0.96      0.89       882\n",
            "           3       0.93      0.94      0.93       930\n",
            "           4       0.92      0.93      0.92       905\n",
            "           5       0.92      0.92      0.92       887\n",
            "           6       0.90      0.93      0.91       855\n",
            "           7       0.93      0.89      0.91       894\n",
            "\n",
            "    accuracy                           0.90      7120\n",
            "   macro avg       0.90      0.90      0.90      7120\n",
            "weighted avg       0.90      0.90      0.90      7120\n",
            "\n"
          ]
        }
      ],
      "source": [
        "import pandas as pd\n",
        "import seaborn as sns\n",
        "import matplotlib.pyplot as plt\n",
        "from sklearn.metrics import confusion_matrix, classification_report\n",
        "\n",
        "def print_confusion_matrix(y_true, y_pred, report=True):\n",
        "    labels = sorted(list(set(y_true)))\n",
        "    print(labels)\n",
        "    cmx_data = confusion_matrix(y_true, y_pred, labels=labels)\n",
        "    \n",
        "    df_cmx = pd.DataFrame(cmx_data, index=labels, columns=labels)\n",
        " \n",
        "    fig, ax = plt.subplots(figsize=(7, 6))\n",
        "    sns.heatmap(df_cmx, annot=True, fmt='g' ,square=False)\n",
        "    ax.set_ylim(len(set(y_true)), 0)\n",
        "    plt.show()\n",
        "    \n",
        "    if report:\n",
        "        print('Classification Report')\n",
        "        print(classification_report(y_test, y_pred))\n",
        "\n",
        "Y_pred = model.predict(X_test)\n",
        "y_pred = np.argmax(Y_pred, axis=1)\n",
        "\n",
        "print_confusion_matrix(y_test, y_pred)"
      ]
    },
    {
      "cell_type": "markdown",
      "metadata": {
        "id": "FNP6aqzc9hE5"
      },
      "source": [
        "# Convert to model for Tensorflow-Lite"
      ]
    },
    {
      "cell_type": "code",
      "execution_count": 21,
      "metadata": {
        "id": "ODjnYyld9hE6"
      },
      "outputs": [
        {
          "name": "stderr",
          "output_type": "stream",
          "text": [
            "c:\\Year 3\\FYP\\Modelling\\fyp_modelling\\lib\\site-packages\\keras\\src\\engine\\training.py:3103: UserWarning: You are saving your model as an HDF5 file via `model.save()`. This file format is considered legacy. We recommend using instead the native Keras format, e.g. `model.save('my_model.keras')`.\n",
            "  saving_api.save_model(\n"
          ]
        }
      ],
      "source": [
        "# Save as a model dedicated to inference\n",
        "model.save(model_save_path, include_optimizer=False)"
      ]
    },
    {
      "cell_type": "code",
      "execution_count": 22,
      "metadata": {
        "colab": {
          "base_uri": "https://localhost:8080/"
        },
        "id": "zRfuK8Y59hE6",
        "outputId": "5babaa50-02eb-4f00-aa06-a5d812128654"
      },
      "outputs": [
        {
          "name": "stdout",
          "output_type": "stream",
          "text": [
            "INFO:tensorflow:Assets written to: C:\\Users\\SHERMA~1\\AppData\\Local\\Temp\\tmp10k7agiv\\assets\n"
          ]
        },
        {
          "name": "stderr",
          "output_type": "stream",
          "text": [
            "INFO:tensorflow:Assets written to: C:\\Users\\SHERMA~1\\AppData\\Local\\Temp\\tmp10k7agiv\\assets\n"
          ]
        },
        {
          "data": {
            "text/plain": [
              "6720"
            ]
          },
          "execution_count": 22,
          "metadata": {},
          "output_type": "execute_result"
        }
      ],
      "source": [
        "# Transform model (quantization)\n",
        "\n",
        "converter = tf.lite.TFLiteConverter.from_keras_model(model)\n",
        "converter.optimizations = [tf.lite.Optimize.DEFAULT]\n",
        "tflite_quantized_model = converter.convert()\n",
        "\n",
        "open(tflite_save_path, 'wb').write(tflite_quantized_model)"
      ]
    },
    {
      "cell_type": "markdown",
      "metadata": {
        "id": "CHBPBXdx9hE6"
      },
      "source": [
        "# Inference test"
      ]
    },
    {
      "cell_type": "code",
      "execution_count": 23,
      "metadata": {
        "id": "mGAzLocO9hE7"
      },
      "outputs": [],
      "source": [
        "interpreter = tf.lite.Interpreter(model_path=tflite_save_path)\n",
        "interpreter.allocate_tensors()"
      ]
    },
    {
      "cell_type": "code",
      "execution_count": 24,
      "metadata": {
        "id": "oQuDK8YS9hE7"
      },
      "outputs": [],
      "source": [
        "# Get I / O tensor\n",
        "input_details = interpreter.get_input_details()\n",
        "output_details = interpreter.get_output_details()"
      ]
    },
    {
      "cell_type": "code",
      "execution_count": 25,
      "metadata": {
        "id": "2_ixAf_l9hE7"
      },
      "outputs": [],
      "source": [
        "input_data = np.array([X_test[0]], dtype=np.float32)\n",
        "interpreter.set_tensor(input_details[0]['index'], input_data)"
      ]
    },
    {
      "cell_type": "code",
      "execution_count": 26,
      "metadata": {
        "colab": {
          "base_uri": "https://localhost:8080/"
        },
        "id": "s4FoAnuc9hE7",
        "outputId": "c73bf25d-25bf-4079-8186-11155fc203aa",
        "scrolled": true
      },
      "outputs": [
        {
          "name": "stdout",
          "output_type": "stream",
          "text": [
            "CPU times: total: 0 ns\n",
            "Wall time: 0 ns\n"
          ]
        }
      ],
      "source": [
        "%%time\n",
        "# Inference implementation\n",
        "interpreter.invoke()\n",
        "tflite_results = interpreter.get_tensor(output_details[0]['index'])"
      ]
    },
    {
      "cell_type": "code",
      "execution_count": 27,
      "metadata": {
        "colab": {
          "base_uri": "https://localhost:8080/"
        },
        "id": "vONjp19J9hE8",
        "outputId": "6c8be325-964e-42c0-84e9-5de951ac0f93"
      },
      "outputs": [
        {
          "name": "stdout",
          "output_type": "stream",
          "text": [
            "[6.3611555e-04 3.6903907e-09 4.7336266e-06 9.3752319e-01 6.1718967e-02\n",
            " 7.5650169e-05 4.0410210e-05 8.8288510e-07]\n",
            "3\n"
          ]
        }
      ],
      "source": [
        "print(np.squeeze(tflite_results))\n",
        "print(np.argmax(np.squeeze(tflite_results)))"
      ]
    },
    {
      "cell_type": "code",
      "execution_count": 28,
      "metadata": {},
      "outputs": [
        {
          "data": {
            "text/plain": [
              "3"
            ]
          },
          "execution_count": 28,
          "metadata": {},
          "output_type": "execute_result"
        }
      ],
      "source": [
        "y_test[0]"
      ]
    }
  ],
  "metadata": {
    "accelerator": "GPU",
    "colab": {
      "provenance": []
    },
    "kernelspec": {
      "display_name": "Python 3",
      "language": "python",
      "name": "python3"
    },
    "language_info": {
      "codemirror_mode": {
        "name": "ipython",
        "version": 3
      },
      "file_extension": ".py",
      "mimetype": "text/x-python",
      "name": "python",
      "nbconvert_exporter": "python",
      "pygments_lexer": "ipython3",
      "version": "3.10.6"
    }
  },
  "nbformat": 4,
  "nbformat_minor": 0
}
