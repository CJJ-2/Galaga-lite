{
  "cells": [
    {
      "cell_type": "code",
      "execution_count": 1,
      "metadata": {
        "id": "igMyGnjE9hEp"
      },
      "outputs": [
        {
          "name": "stdout",
          "output_type": "stream",
          "text": [
            "WARNING:tensorflow:From c:\\Year 3\\FYP\\Modelling\\fyp_modelling\\lib\\site-packages\\keras\\src\\losses.py:2976: The name tf.losses.sparse_softmax_cross_entropy is deprecated. Please use tf.compat.v1.losses.sparse_softmax_cross_entropy instead.\n",
            "\n"
          ]
        }
      ],
      "source": [
        "import csv\n",
        "\n",
        "import numpy as np\n",
        "import tensorflow as tf\n",
        "from sklearn.model_selection import train_test_split\n",
        "\n",
        "RANDOM_SEED = 42"
      ]
    },
    {
      "cell_type": "markdown",
      "metadata": {
        "id": "t2HDvhIu9hEr"
      },
      "source": [
        "# Specify each path"
      ]
    },
    {
      "cell_type": "code",
      "execution_count": 2,
      "metadata": {
        "id": "9NvZP2Zn9hEy"
      },
      "outputs": [],
      "source": [
        "dataset = \"../model/keypoint_classifier/large_keypoint.csv\"\n",
        "model_save_path = '../model/keypoint_classifier/large_keypoint.hdf5'\n",
        "tflite_save_path = '../model/keypoint_classifier/large_keypoint.tflite'"
      ]
    },
    {
      "cell_type": "markdown",
      "metadata": {
        "id": "s5oMH7x19hEz"
      },
      "source": [
        "# Set number of classes"
      ]
    },
    {
      "cell_type": "code",
      "execution_count": 3,
      "metadata": {
        "id": "du4kodXL9hEz"
      },
      "outputs": [],
      "source": [
        "NUM_CLASSES = 8"
      ]
    },
    {
      "cell_type": "markdown",
      "metadata": {
        "id": "XjnL0uso9hEz"
      },
      "source": [
        "# Dataset reading"
      ]
    },
    {
      "cell_type": "code",
      "execution_count": 4,
      "metadata": {},
      "outputs": [
        {
          "name": "stdout",
          "output_type": "stream",
          "text": [
            "Class distribution before resampling:\n",
            "Class 0: 3815 instances\n",
            "Class 1: 5103 instances\n",
            "Class 2: 5176 instances\n",
            "Class 3: 3276 instances\n",
            "Class 4: 3196 instances\n",
            "Class 5: 3260 instances\n",
            "Class 6: 3270 instances\n",
            "Class 7: 3799 instances\n",
            "\n",
            "Class distribution after resampling:\n",
            "Class 0: 3537 instances\n",
            "Class 1: 3537 instances\n",
            "Class 2: 3537 instances\n",
            "Class 3: 3537 instances\n",
            "Class 4: 3537 instances\n",
            "Class 5: 3537 instances\n",
            "Class 6: 3537 instances\n",
            "Class 7: 3537 instances\n"
          ]
        }
      ],
      "source": [
        "from imblearn.under_sampling import RandomUnderSampler\n",
        "from imblearn.over_sampling import RandomOverSampler\n",
        "import numpy as np\n",
        "import pandas as pd\n",
        "\n",
        "\n",
        "# Read the dataset from the CSV file\n",
        "data = pd.read_csv(dataset)\n",
        "\n",
        "# Specify the target variable\n",
        "balance_by = data.columns[0]\n",
        "\n",
        "# Function to determine the sampling strategy\n",
        "def sampling_strategy(X, y, n_samples, t='majority'):\n",
        "    target_classes = ''\n",
        "    if t == 'majority':\n",
        "        target_classes = y.value_counts() > n_samples\n",
        "    elif t == 'minority':\n",
        "        target_classes = y.value_counts() < n_samples\n",
        "    tc = target_classes[target_classes == True].index\n",
        "    sampling_strategy = {}\n",
        "    for target in tc:\n",
        "        sampling_strategy[target] = n_samples\n",
        "    return sampling_strategy\n",
        "\n",
        "# Calculate the median count for balancing\n",
        "n_samples = int(data[balance_by].value_counts().median())\n",
        "\n",
        "# Balancing the data using RandomUnderSampler and RandomOverSampler\n",
        "under_sampler = RandomUnderSampler(sampling_strategy=sampling_strategy(data.drop(balance_by, axis=1), data[balance_by], n_samples, t='majority'))\n",
        "X_under, y_under = under_sampler.fit_resample(data.drop(balance_by, axis=1), data[balance_by])\n",
        "\n",
        "over_sampler = RandomOverSampler(sampling_strategy=sampling_strategy(X_under, y_under, n_samples, t='minority'))\n",
        "X_bal, y_bal = over_sampler.fit_resample(X_under, y_under)\n",
        "\n",
        "balanced_data = pd.DataFrame(X_bal)\n",
        "balanced_data[balance_by] = y_bal\n",
        "\n",
        "# Print class distribution before resampling\n",
        "unique_classes_before, class_counts_before = np.unique(data[balance_by], return_counts=True)\n",
        "print(\"Class distribution before resampling:\")\n",
        "for class_label, count in zip(unique_classes_before, class_counts_before):\n",
        "    print(f\"Class {class_label}: {count} instances\")\n",
        "\n",
        "# Print class distribution after resampling\n",
        "unique_classes_after, class_counts_after = np.unique(balanced_data[balance_by], return_counts=True)\n",
        "print(\"\\nClass distribution after resampling:\")\n",
        "for class_label, count in zip(unique_classes_after, class_counts_after):\n",
        "    print(f\"Class {class_label}: {count} instances\")\n"
      ]
    },
    {
      "cell_type": "code",
      "execution_count": 5,
      "metadata": {},
      "outputs": [
        {
          "data": {
            "text/html": [
              "<div>\n",
              "<style scoped>\n",
              "    .dataframe tbody tr th:only-of-type {\n",
              "        vertical-align: middle;\n",
              "    }\n",
              "\n",
              "    .dataframe tbody tr th {\n",
              "        vertical-align: top;\n",
              "    }\n",
              "\n",
              "    .dataframe thead th {\n",
              "        text-align: right;\n",
              "    }\n",
              "</style>\n",
              "<table border=\"1\" class=\"dataframe\">\n",
              "  <thead>\n",
              "    <tr style=\"text-align: right;\">\n",
              "      <th></th>\n",
              "      <th>0.0</th>\n",
              "      <th>0.0.1</th>\n",
              "      <th>0.23605150214592274</th>\n",
              "      <th>-0.3776824034334764</th>\n",
              "      <th>0.30472103004291845</th>\n",
              "      <th>-0.630901287553648</th>\n",
              "      <th>0.3605150214592275</th>\n",
              "      <th>-0.8412017167381974</th>\n",
              "      <th>0.2832618025751073</th>\n",
              "      <th>-0.9957081545064378</th>\n",
              "      <th>...</th>\n",
              "      <th>-0.5150214592274678</th>\n",
              "      <th>-0.2017167381974249</th>\n",
              "      <th>-0.5793991416309013</th>\n",
              "      <th>0.11158798283261803</th>\n",
              "      <th>-0.6738197424892703.1</th>\n",
              "      <th>0.15450643776824036</th>\n",
              "      <th>-0.51931330472103</th>\n",
              "      <th>0.04721030042918455</th>\n",
              "      <th>-0.4592274678111588</th>\n",
              "      <th>0</th>\n",
              "    </tr>\n",
              "  </thead>\n",
              "  <tbody>\n",
              "    <tr>\n",
              "      <th>0</th>\n",
              "      <td>0.0</td>\n",
              "      <td>0.0</td>\n",
              "      <td>0.358491</td>\n",
              "      <td>-0.018868</td>\n",
              "      <td>0.801887</td>\n",
              "      <td>-0.216981</td>\n",
              "      <td>0.886792</td>\n",
              "      <td>-0.566038</td>\n",
              "      <td>0.641509</td>\n",
              "      <td>-0.764151</td>\n",
              "      <td>...</td>\n",
              "      <td>-0.613208</td>\n",
              "      <td>-0.075472</td>\n",
              "      <td>-0.924528</td>\n",
              "      <td>-0.113208</td>\n",
              "      <td>-1.000000</td>\n",
              "      <td>-0.122642</td>\n",
              "      <td>-0.745283</td>\n",
              "      <td>-0.084906</td>\n",
              "      <td>-0.698113</td>\n",
              "      <td>0</td>\n",
              "    </tr>\n",
              "    <tr>\n",
              "      <th>1</th>\n",
              "      <td>0.0</td>\n",
              "      <td>0.0</td>\n",
              "      <td>-0.358382</td>\n",
              "      <td>-0.156069</td>\n",
              "      <td>-0.635838</td>\n",
              "      <td>-0.387283</td>\n",
              "      <td>-0.676301</td>\n",
              "      <td>-0.687861</td>\n",
              "      <td>-0.433526</td>\n",
              "      <td>-0.803468</td>\n",
              "      <td>...</td>\n",
              "      <td>-0.445087</td>\n",
              "      <td>0.323699</td>\n",
              "      <td>-0.664740</td>\n",
              "      <td>0.231214</td>\n",
              "      <td>-0.849711</td>\n",
              "      <td>0.196532</td>\n",
              "      <td>-0.606936</td>\n",
              "      <td>0.219653</td>\n",
              "      <td>-0.502890</td>\n",
              "      <td>0</td>\n",
              "    </tr>\n",
              "    <tr>\n",
              "      <th>2</th>\n",
              "      <td>0.0</td>\n",
              "      <td>0.0</td>\n",
              "      <td>0.352273</td>\n",
              "      <td>-0.227273</td>\n",
              "      <td>0.590909</td>\n",
              "      <td>-0.511364</td>\n",
              "      <td>0.613636</td>\n",
              "      <td>-0.784091</td>\n",
              "      <td>0.431818</td>\n",
              "      <td>-0.863636</td>\n",
              "      <td>...</td>\n",
              "      <td>-0.613636</td>\n",
              "      <td>0.102273</td>\n",
              "      <td>-0.806818</td>\n",
              "      <td>0.181818</td>\n",
              "      <td>-0.931818</td>\n",
              "      <td>0.147727</td>\n",
              "      <td>-0.738636</td>\n",
              "      <td>0.136364</td>\n",
              "      <td>-0.636364</td>\n",
              "      <td>0</td>\n",
              "    </tr>\n",
              "    <tr>\n",
              "      <th>3</th>\n",
              "      <td>0.0</td>\n",
              "      <td>0.0</td>\n",
              "      <td>-0.344498</td>\n",
              "      <td>-0.148325</td>\n",
              "      <td>-0.626794</td>\n",
              "      <td>-0.373206</td>\n",
              "      <td>-0.751196</td>\n",
              "      <td>-0.660287</td>\n",
              "      <td>-0.602871</td>\n",
              "      <td>-0.856459</td>\n",
              "      <td>...</td>\n",
              "      <td>-0.526316</td>\n",
              "      <td>0.287081</td>\n",
              "      <td>-0.631579</td>\n",
              "      <td>0.210526</td>\n",
              "      <td>-0.837321</td>\n",
              "      <td>0.110048</td>\n",
              "      <td>-0.617225</td>\n",
              "      <td>0.100478</td>\n",
              "      <td>-0.497608</td>\n",
              "      <td>0</td>\n",
              "    </tr>\n",
              "    <tr>\n",
              "      <th>4</th>\n",
              "      <td>0.0</td>\n",
              "      <td>0.0</td>\n",
              "      <td>0.183908</td>\n",
              "      <td>-0.168582</td>\n",
              "      <td>0.287356</td>\n",
              "      <td>-0.367816</td>\n",
              "      <td>0.310345</td>\n",
              "      <td>-0.559387</td>\n",
              "      <td>0.279693</td>\n",
              "      <td>-0.693487</td>\n",
              "      <td>...</td>\n",
              "      <td>-0.747126</td>\n",
              "      <td>-0.095785</td>\n",
              "      <td>-0.685824</td>\n",
              "      <td>-0.111111</td>\n",
              "      <td>-0.854406</td>\n",
              "      <td>-0.065134</td>\n",
              "      <td>-0.858238</td>\n",
              "      <td>-0.030651</td>\n",
              "      <td>-0.762452</td>\n",
              "      <td>0</td>\n",
              "    </tr>\n",
              "  </tbody>\n",
              "</table>\n",
              "<p>5 rows × 43 columns</p>\n",
              "</div>"
            ],
            "text/plain": [
              "   0.0  0.0.1  0.23605150214592274  -0.3776824034334764  0.30472103004291845  \\\n",
              "0  0.0    0.0             0.358491            -0.018868             0.801887   \n",
              "1  0.0    0.0            -0.358382            -0.156069            -0.635838   \n",
              "2  0.0    0.0             0.352273            -0.227273             0.590909   \n",
              "3  0.0    0.0            -0.344498            -0.148325            -0.626794   \n",
              "4  0.0    0.0             0.183908            -0.168582             0.287356   \n",
              "\n",
              "   -0.630901287553648  0.3605150214592275  -0.8412017167381974  \\\n",
              "0           -0.216981            0.886792            -0.566038   \n",
              "1           -0.387283           -0.676301            -0.687861   \n",
              "2           -0.511364            0.613636            -0.784091   \n",
              "3           -0.373206           -0.751196            -0.660287   \n",
              "4           -0.367816            0.310345            -0.559387   \n",
              "\n",
              "   0.2832618025751073  -0.9957081545064378  ...  -0.5150214592274678  \\\n",
              "0            0.641509            -0.764151  ...            -0.613208   \n",
              "1           -0.433526            -0.803468  ...            -0.445087   \n",
              "2            0.431818            -0.863636  ...            -0.613636   \n",
              "3           -0.602871            -0.856459  ...            -0.526316   \n",
              "4            0.279693            -0.693487  ...            -0.747126   \n",
              "\n",
              "   -0.2017167381974249  -0.5793991416309013  0.11158798283261803  \\\n",
              "0            -0.075472            -0.924528            -0.113208   \n",
              "1             0.323699            -0.664740             0.231214   \n",
              "2             0.102273            -0.806818             0.181818   \n",
              "3             0.287081            -0.631579             0.210526   \n",
              "4            -0.095785            -0.685824            -0.111111   \n",
              "\n",
              "   -0.6738197424892703.1  0.15450643776824036  -0.51931330472103  \\\n",
              "0              -1.000000            -0.122642          -0.745283   \n",
              "1              -0.849711             0.196532          -0.606936   \n",
              "2              -0.931818             0.147727          -0.738636   \n",
              "3              -0.837321             0.110048          -0.617225   \n",
              "4              -0.854406            -0.065134          -0.858238   \n",
              "\n",
              "   0.04721030042918455  -0.4592274678111588  0  \n",
              "0            -0.084906            -0.698113  0  \n",
              "1             0.219653            -0.502890  0  \n",
              "2             0.136364            -0.636364  0  \n",
              "3             0.100478            -0.497608  0  \n",
              "4            -0.030651            -0.762452  0  \n",
              "\n",
              "[5 rows x 43 columns]"
            ]
          },
          "execution_count": 5,
          "metadata": {},
          "output_type": "execute_result"
        }
      ],
      "source": [
        "balanced_data.head()"
      ]
    },
    {
      "cell_type": "code",
      "execution_count": 29,
      "metadata": {},
      "outputs": [
        {
          "name": "stdout",
          "output_type": "stream",
          "text": [
            "30895\n"
          ]
        },
        {
          "data": {
            "image/png": "[encoded data removed]",
            "text/plain": [
              "<Figure size 640x480 with 1 Axes>"
            ]
          },
          "metadata": {},
          "output_type": "display_data"
        }
      ],
      "source": [
        "print(data[\"0\"].count())\n",
        "balanced_data[\"0\"].value_counts().plot(kind='bar', title='Count (target)');"
      ]
    },
    {
      "cell_type": "code",
      "execution_count": 6,
      "metadata": {},
      "outputs": [
        {
          "data": {
            "text/plain": [
              "array([[ 0.        ,  0.        ,  0.35849057, ..., -0.74528302,\n",
              "        -0.08490566, -0.69811321],\n",
              "       [ 0.        ,  0.        , -0.3583815 , ..., -0.60693642,\n",
              "         0.21965318, -0.50289017],\n",
              "       [ 0.        ,  0.        ,  0.35227273, ..., -0.73863636,\n",
              "         0.13636364, -0.63636364],\n",
              "       ...,\n",
              "       [ 0.        ,  0.        , -0.34166667, ..., -0.54166667,\n",
              "         0.39166667, -0.375     ],\n",
              "       [ 0.        ,  0.        ,  0.29299363, ..., -0.4522293 ,\n",
              "        -0.13375796, -0.40127389],\n",
              "       [ 0.        ,  0.        ,  0.24110672, ..., -0.52964427,\n",
              "        -0.31620553, -0.54940711]])"
            ]
          },
          "execution_count": 6,
          "metadata": {},
          "output_type": "execute_result"
        }
      ],
      "source": [
        "X_dataset = np.array(balanced_data.drop(balance_by, axis=1))\n",
        "X_dataset"
      ]
    },
    {
      "cell_type": "code",
      "execution_count": 7,
      "metadata": {},
      "outputs": [
        {
          "data": {
            "text/plain": [
              "array([0, 0, 0, ..., 6, 6, 6], dtype=int64)"
            ]
          },
          "execution_count": 7,
          "metadata": {},
          "output_type": "execute_result"
        }
      ],
      "source": [
        "y_dataset = np.array(balanced_data[balance_by])\n",
        "y_dataset"
      ]
    },
    {
      "cell_type": "code",
      "execution_count": 8,
      "metadata": {
        "id": "xQU7JTZ_9hE0"
      },
      "outputs": [],
      "source": [
        "X_train, X_test, y_train, y_test = train_test_split(X_dataset, y_dataset, train_size=0.75, random_state=RANDOM_SEED)"
      ]
    },
    {
      "cell_type": "markdown",
      "metadata": {
        "id": "mxK_lETT9hE0"
      },
      "source": [
        "# Model building"
      ]
    },
    {
      "cell_type": "code",
      "execution_count": 9,
      "metadata": {
        "id": "vHBmUf1t9hE1"
      },
      "outputs": [
        {
          "name": "stdout",
          "output_type": "stream",
          "text": [
            "WARNING:tensorflow:From c:\\Year 3\\FYP\\Modelling\\fyp_modelling\\lib\\site-packages\\keras\\src\\backend.py:1398: The name tf.executing_eagerly_outside_functions is deprecated. Please use tf.compat.v1.executing_eagerly_outside_functions instead.\n",
            "\n"
          ]
        }
      ],
      "source": [
        "model = tf.keras.models.Sequential([\n",
        "    tf.keras.layers.Input((21 * 2, )),\n",
        "    tf.keras.layers.Dropout(0.2),\n",
        "    tf.keras.layers.Dense(20, activation='relu'),\n",
        "    tf.keras.layers.Dropout(0.4),\n",
        "    tf.keras.layers.Dense(10, activation='relu'),\n",
        "    tf.keras.layers.Dense(NUM_CLASSES, activation='softmax')\n",
        "])"
      ]
    },
    {
      "cell_type": "code",
      "execution_count": 10,
      "metadata": {
        "colab": {
          "base_uri": "https://localhost:8080/"
        },
        "id": "ypqky9tc9hE1",
        "outputId": "50df0ea3-9b0b-4a09-9378-f238d1602e01"
      },
      "outputs": [
        {
          "name": "stdout",
          "output_type": "stream",
          "text": [
            "Model: \"sequential\"\n",
            "_________________________________________________________________\n",
            " Layer (type)                Output Shape              Param #   \n",
            "=================================================================\n",
            " dropout (Dropout)           (None, 42)                0         \n",
            "                                                                 \n",
            " dense (Dense)               (None, 20)                860       \n",
            "                                                                 \n",
            " dropout_1 (Dropout)         (None, 20)                0         \n",
            "                                                                 \n",
            " dense_1 (Dense)             (None, 10)                210       \n",
            "                                                                 \n",
            " dense_2 (Dense)             (None, 8)                 88        \n",
            "                                                                 \n",
            "=================================================================\n",
            "Total params: 1158 (4.52 KB)\n",
            "Trainable params: 1158 (4.52 KB)\n",
            "Non-trainable params: 0 (0.00 Byte)\n",
            "_________________________________________________________________\n"
          ]
        }
      ],
      "source": [
        "model.summary()  # tf.keras.utils.plot_model(model, show_shapes=True)"
      ]
    },
    {
      "cell_type": "code",
      "execution_count": 11,
      "metadata": {
        "id": "MbMjOflQ9hE1"
      },
      "outputs": [],
      "source": [
        "# Model checkpoint callback\n",
        "cp_callback = tf.keras.callbacks.ModelCheckpoint(\n",
        "    model_save_path, verbose=1, save_weights_only=False)\n",
        "# Callback for early stopping\n",
        "es_callback = tf.keras.callbacks.EarlyStopping(patience=20, verbose=1)"
      ]
    },
    {
      "cell_type": "code",
      "execution_count": 12,
      "metadata": {
        "id": "c3Dac0M_9hE2"
      },
      "outputs": [
        {
          "name": "stdout",
          "output_type": "stream",
          "text": [
            "WARNING:tensorflow:From c:\\Year 3\\FYP\\Modelling\\fyp_modelling\\lib\\site-packages\\keras\\src\\optimizers\\__init__.py:309: The name tf.train.Optimizer is deprecated. Please use tf.compat.v1.train.Optimizer instead.\n",
            "\n"
          ]
        }
      ],
      "source": [
        "# Model compilation\n",
        "model.compile(\n",
        "    optimizer='adam',\n",
        "    loss='sparse_categorical_crossentropy',\n",
        "    metrics=['accuracy']\n",
        ")"
      ]
    },
    {
      "cell_type": "markdown",
      "metadata": {
        "id": "7XI0j1Iu9hE2"
      },
      "source": [
        "# Model training"
      ]
    },
    {
      "cell_type": "code",
      "execution_count": 13,
      "metadata": {
        "colab": {
          "base_uri": "https://localhost:8080/"
        },
        "id": "WirBl-JE9hE3",
        "outputId": "cdb63228-c6af-405b-8cf4-11bef3347226",
        "scrolled": true
      },
      "outputs": [
        {
          "name": "stdout",
          "output_type": "stream",
          "text": [
            "Epoch 1/1000\n",
            "WARNING:tensorflow:From c:\\Year 3\\FYP\\Modelling\\fyp_modelling\\lib\\site-packages\\keras\\src\\utils\\tf_utils.py:492: The name tf.ragged.RaggedTensorValue is deprecated. Please use tf.compat.v1.ragged.RaggedTensorValue instead.\n",
            "\n",
            "WARNING:tensorflow:From c:\\Year 3\\FYP\\Modelling\\fyp_modelling\\lib\\site-packages\\keras\\src\\engine\\base_layer_utils.py:384: The name tf.executing_eagerly_outside_functions is deprecated. Please use tf.compat.v1.executing_eagerly_outside_functions instead.\n",
            "\n",
            "165/166 [============================>.] - ETA: 0s - loss: 1.8336 - accuracy: 0.2893\n",
            "Epoch 1: saving model to ../model/keypoint_classifier\\large_keypoint.hdf5\n",
            "166/166 [==============================] - 2s 5ms/step - loss: 1.8325 - accuracy: 0.2900 - val_loss: 1.3953 - val_accuracy: 0.5766\n",
            "Epoch 2/1000\n",
            " 76/166 [============>.................] - ETA: 0s - loss: 1.4460 - accuracy: 0.4632"
          ]
        },
        {
          "name": "stderr",
          "output_type": "stream",
          "text": [
            "c:\\Year 3\\FYP\\Modelling\\fyp_modelling\\lib\\site-packages\\keras\\src\\engine\\training.py:3103: UserWarning: You are saving your model as an HDF5 file via `model.save()`. This file format is considered legacy. We recommend using instead the native Keras format, e.g. `model.save('my_model.keras')`.\n",
            "  saving_api.save_model(\n"
          ]
        },
        {
          "name": "stdout",
          "output_type": "stream",
          "text": [
            "161/166 [============================>.] - ETA: 0s - loss: 1.3710 - accuracy: 0.4871\n",
            "Epoch 2: saving model to ../model/keypoint_classifier\\large_keypoint.hdf5\n",
            "166/166 [==============================] - 0s 3ms/step - loss: 1.3675 - accuracy: 0.4884 - val_loss: 1.0510 - val_accuracy: 0.6392\n",
            "Epoch 3/1000\n",
            "153/166 [==========================>...] - ETA: 0s - loss: 1.1900 - accuracy: 0.5588\n",
            "Epoch 3: saving model to ../model/keypoint_classifier\\large_keypoint.hdf5\n",
            "166/166 [==============================] - 0s 3ms/step - loss: 1.1855 - accuracy: 0.5627 - val_loss: 0.9158 - val_accuracy: 0.7214\n",
            "Epoch 4/1000\n",
            "162/166 [============================>.] - ETA: 0s - loss: 1.0813 - accuracy: 0.6138\n",
            "Epoch 4: saving model to ../model/keypoint_classifier\\large_keypoint.hdf5\n",
            "166/166 [==============================] - 1s 3ms/step - loss: 1.0795 - accuracy: 0.6142 - val_loss: 0.8171 - val_accuracy: 0.7347\n",
            "Epoch 5/1000\n",
            "152/166 [==========================>...] - ETA: 0s - loss: 1.0151 - accuracy: 0.6435\n",
            "Epoch 5: saving model to ../model/keypoint_classifier\\large_keypoint.hdf5\n",
            "166/166 [==============================] - 1s 4ms/step - loss: 1.0142 - accuracy: 0.6435 - val_loss: 0.7570 - val_accuracy: 0.7468\n",
            "Epoch 6/1000\n",
            "165/166 [============================>.] - ETA: 0s - loss: 0.9688 - accuracy: 0.6553\n",
            "Epoch 6: saving model to ../model/keypoint_classifier\\large_keypoint.hdf5\n",
            "166/166 [==============================] - 1s 4ms/step - loss: 0.9685 - accuracy: 0.6555 - val_loss: 0.7264 - val_accuracy: 0.7535\n",
            "Epoch 7/1000\n",
            "165/166 [============================>.] - ETA: 0s - loss: 0.9451 - accuracy: 0.6647\n",
            "Epoch 7: saving model to ../model/keypoint_classifier\\large_keypoint.hdf5\n",
            "166/166 [==============================] - 1s 3ms/step - loss: 0.9443 - accuracy: 0.6648 - val_loss: 0.6931 - val_accuracy: 0.7564\n",
            "Epoch 8/1000\n",
            "143/166 [========================>.....] - ETA: 0s - loss: 0.9119 - accuracy: 0.6754\n",
            "Epoch 8: saving model to ../model/keypoint_classifier\\large_keypoint.hdf5\n",
            "166/166 [==============================] - 0s 2ms/step - loss: 0.9143 - accuracy: 0.6727 - val_loss: 0.6806 - val_accuracy: 0.7689\n",
            "Epoch 9/1000\n",
            "151/166 [==========================>...] - ETA: 0s - loss: 0.9005 - accuracy: 0.6806\n",
            "Epoch 9: saving model to ../model/keypoint_classifier\\large_keypoint.hdf5\n",
            "166/166 [==============================] - 0s 3ms/step - loss: 0.8993 - accuracy: 0.6797 - val_loss: 0.6573 - val_accuracy: 0.7627\n",
            "Epoch 10/1000\n",
            "151/166 [==========================>...] - ETA: 0s - loss: 0.8840 - accuracy: 0.6805\n",
            "Epoch 10: saving model to ../model/keypoint_classifier\\large_keypoint.hdf5\n",
            "166/166 [==============================] - 0s 3ms/step - loss: 0.8810 - accuracy: 0.6833 - val_loss: 0.6485 - val_accuracy: 0.7697\n",
            "Epoch 11/1000\n",
            "157/166 [===========================>..] - ETA: 0s - loss: 0.8689 - accuracy: 0.6884\n",
            "Epoch 11: saving model to ../model/keypoint_classifier\\large_keypoint.hdf5\n",
            "166/166 [==============================] - 1s 3ms/step - loss: 0.8698 - accuracy: 0.6878 - val_loss: 0.6361 - val_accuracy: 0.7638\n",
            "Epoch 12/1000\n",
            "163/166 [============================>.] - ETA: 0s - loss: 0.8618 - accuracy: 0.6884\n",
            "Epoch 12: saving model to ../model/keypoint_classifier\\large_keypoint.hdf5\n",
            "166/166 [==============================] - 0s 3ms/step - loss: 0.8619 - accuracy: 0.6887 - val_loss: 0.6315 - val_accuracy: 0.7694\n",
            "Epoch 13/1000\n",
            "162/166 [============================>.] - ETA: 0s - loss: 0.8487 - accuracy: 0.6994\n",
            "Epoch 13: saving model to ../model/keypoint_classifier\\large_keypoint.hdf5\n",
            "166/166 [==============================] - 1s 3ms/step - loss: 0.8475 - accuracy: 0.6996 - val_loss: 0.6180 - val_accuracy: 0.7723\n",
            "Epoch 14/1000\n",
            "162/166 [============================>.] - ETA: 0s - loss: 0.8436 - accuracy: 0.6946\n",
            "Epoch 14: saving model to ../model/keypoint_classifier\\large_keypoint.hdf5\n",
            "166/166 [==============================] - 1s 3ms/step - loss: 0.8425 - accuracy: 0.6953 - val_loss: 0.6168 - val_accuracy: 0.7872\n",
            "Epoch 15/1000\n",
            "149/166 [=========================>....] - ETA: 0s - loss: 0.8391 - accuracy: 0.6989\n",
            "Epoch 15: saving model to ../model/keypoint_classifier\\large_keypoint.hdf5\n",
            "166/166 [==============================] - 0s 3ms/step - loss: 0.8372 - accuracy: 0.6996 - val_loss: 0.6129 - val_accuracy: 0.7802\n",
            "Epoch 16/1000\n",
            "163/166 [============================>.] - ETA: 0s - loss: 0.8214 - accuracy: 0.7050\n",
            "Epoch 16: saving model to ../model/keypoint_classifier\\large_keypoint.hdf5\n",
            "166/166 [==============================] - 1s 3ms/step - loss: 0.8219 - accuracy: 0.7049 - val_loss: 0.6068 - val_accuracy: 0.7692\n",
            "Epoch 17/1000\n",
            "146/166 [=========================>....] - ETA: 0s - loss: 0.8108 - accuracy: 0.7074\n",
            "Epoch 17: saving model to ../model/keypoint_classifier\\large_keypoint.hdf5\n",
            "166/166 [==============================] - 0s 3ms/step - loss: 0.8119 - accuracy: 0.7079 - val_loss: 0.6004 - val_accuracy: 0.7755\n",
            "Epoch 18/1000\n",
            "150/166 [==========================>...] - ETA: 0s - loss: 0.8096 - accuracy: 0.7091\n",
            "Epoch 18: saving model to ../model/keypoint_classifier\\large_keypoint.hdf5\n",
            "166/166 [==============================] - 0s 3ms/step - loss: 0.8093 - accuracy: 0.7087 - val_loss: 0.5985 - val_accuracy: 0.7798\n",
            "Epoch 19/1000\n",
            "165/166 [============================>.] - ETA: 0s - loss: 0.8134 - accuracy: 0.7116\n",
            "Epoch 19: saving model to ../model/keypoint_classifier\\large_keypoint.hdf5\n",
            "166/166 [==============================] - 0s 3ms/step - loss: 0.8131 - accuracy: 0.7117 - val_loss: 0.5981 - val_accuracy: 0.7854\n",
            "Epoch 20/1000\n",
            "163/166 [============================>.] - ETA: 0s - loss: 0.7942 - accuracy: 0.7152\n",
            "Epoch 20: saving model to ../model/keypoint_classifier\\large_keypoint.hdf5\n",
            "166/166 [==============================] - 0s 3ms/step - loss: 0.7942 - accuracy: 0.7154 - val_loss: 0.5910 - val_accuracy: 0.7829\n",
            "Epoch 21/1000\n",
            "165/166 [============================>.] - ETA: 0s - loss: 0.7934 - accuracy: 0.7148\n",
            "Epoch 21: saving model to ../model/keypoint_classifier\\large_keypoint.hdf5\n",
            "166/166 [==============================] - 1s 3ms/step - loss: 0.7938 - accuracy: 0.7144 - val_loss: 0.5882 - val_accuracy: 0.7882\n",
            "Epoch 22/1000\n",
            "166/166 [==============================] - ETA: 0s - loss: 0.7948 - accuracy: 0.7143\n",
            "Epoch 22: saving model to ../model/keypoint_classifier\\large_keypoint.hdf5\n",
            "166/166 [==============================] - 0s 3ms/step - loss: 0.7948 - accuracy: 0.7143 - val_loss: 0.5857 - val_accuracy: 0.7827\n",
            "Epoch 23/1000\n",
            "157/166 [===========================>..] - ETA: 0s - loss: 0.7820 - accuracy: 0.7173\n",
            "Epoch 23: saving model to ../model/keypoint_classifier\\large_keypoint.hdf5\n",
            "166/166 [==============================] - 1s 3ms/step - loss: 0.7829 - accuracy: 0.7167 - val_loss: 0.5824 - val_accuracy: 0.7868\n",
            "Epoch 24/1000\n",
            "152/166 [==========================>...] - ETA: 0s - loss: 0.7873 - accuracy: 0.7195\n",
            "Epoch 24: saving model to ../model/keypoint_classifier\\large_keypoint.hdf5\n",
            "166/166 [==============================] - 0s 3ms/step - loss: 0.7894 - accuracy: 0.7182 - val_loss: 0.5898 - val_accuracy: 0.7933\n",
            "Epoch 25/1000\n",
            "161/166 [============================>.] - ETA: 0s - loss: 0.7777 - accuracy: 0.7208\n",
            "Epoch 25: saving model to ../model/keypoint_classifier\\large_keypoint.hdf5\n",
            "166/166 [==============================] - 1s 3ms/step - loss: 0.7793 - accuracy: 0.7198 - val_loss: 0.5838 - val_accuracy: 0.8000\n",
            "Epoch 26/1000\n",
            "143/166 [========================>.....] - ETA: 0s - loss: 0.7759 - accuracy: 0.7234\n",
            "Epoch 26: saving model to ../model/keypoint_classifier\\large_keypoint.hdf5\n",
            "166/166 [==============================] - 1s 3ms/step - loss: 0.7764 - accuracy: 0.7231 - val_loss: 0.5832 - val_accuracy: 0.7995\n",
            "Epoch 27/1000\n",
            "151/166 [==========================>...] - ETA: 0s - loss: 0.7737 - accuracy: 0.7269\n",
            "Epoch 27: saving model to ../model/keypoint_classifier\\large_keypoint.hdf5\n",
            "166/166 [==============================] - 1s 3ms/step - loss: 0.7758 - accuracy: 0.7253 - val_loss: 0.5864 - val_accuracy: 0.7990\n",
            "Epoch 28/1000\n",
            "165/166 [============================>.] - ETA: 0s - loss: 0.7715 - accuracy: 0.7247\n",
            "Epoch 28: saving model to ../model/keypoint_classifier\\large_keypoint.hdf5\n",
            "166/166 [==============================] - 1s 3ms/step - loss: 0.7710 - accuracy: 0.7248 - val_loss: 0.5791 - val_accuracy: 0.8051\n",
            "Epoch 29/1000\n",
            "153/166 [==========================>...] - ETA: 0s - loss: 0.7722 - accuracy: 0.7205\n",
            "Epoch 29: saving model to ../model/keypoint_classifier\\large_keypoint.hdf5\n",
            "166/166 [==============================] - 1s 3ms/step - loss: 0.7726 - accuracy: 0.7206 - val_loss: 0.5783 - val_accuracy: 0.7946\n",
            "Epoch 30/1000\n",
            "150/166 [==========================>...] - ETA: 0s - loss: 0.7699 - accuracy: 0.7225\n",
            "Epoch 30: saving model to ../model/keypoint_classifier\\large_keypoint.hdf5\n",
            "166/166 [==============================] - 0s 3ms/step - loss: 0.7669 - accuracy: 0.7241 - val_loss: 0.5749 - val_accuracy: 0.7979\n",
            "Epoch 31/1000\n",
            "162/166 [============================>.] - ETA: 0s - loss: 0.7577 - accuracy: 0.7294\n",
            "Epoch 31: saving model to ../model/keypoint_classifier\\large_keypoint.hdf5\n",
            "166/166 [==============================] - 1s 3ms/step - loss: 0.7583 - accuracy: 0.7288 - val_loss: 0.5746 - val_accuracy: 0.7851\n",
            "Epoch 32/1000\n",
            "142/166 [========================>.....] - ETA: 0s - loss: 0.7629 - accuracy: 0.7239\n",
            "Epoch 32: saving model to ../model/keypoint_classifier\\large_keypoint.hdf5\n",
            "166/166 [==============================] - 1s 3ms/step - loss: 0.7626 - accuracy: 0.7236 - val_loss: 0.5828 - val_accuracy: 0.7962\n",
            "Epoch 33/1000\n",
            "155/166 [===========================>..] - ETA: 0s - loss: 0.7571 - accuracy: 0.7253\n",
            "Epoch 33: saving model to ../model/keypoint_classifier\\large_keypoint.hdf5\n",
            "166/166 [==============================] - 1s 3ms/step - loss: 0.7562 - accuracy: 0.7260 - val_loss: 0.5790 - val_accuracy: 0.7986\n",
            "Epoch 34/1000\n",
            "156/166 [===========================>..] - ETA: 0s - loss: 0.7537 - accuracy: 0.7291\n",
            "Epoch 34: saving model to ../model/keypoint_classifier\\large_keypoint.hdf5\n",
            "166/166 [==============================] - 0s 3ms/step - loss: 0.7524 - accuracy: 0.7302 - val_loss: 0.5777 - val_accuracy: 0.8011\n",
            "Epoch 35/1000\n",
            "142/166 [========================>.....] - ETA: 0s - loss: 0.7559 - accuracy: 0.7265\n",
            "Epoch 35: saving model to ../model/keypoint_classifier\\large_keypoint.hdf5\n",
            "166/166 [==============================] - 0s 2ms/step - loss: 0.7502 - accuracy: 0.7286 - val_loss: 0.5707 - val_accuracy: 0.8106\n",
            "Epoch 36/1000\n",
            "140/166 [========================>.....] - ETA: 0s - loss: 0.7572 - accuracy: 0.7254\n",
            "Epoch 36: saving model to ../model/keypoint_classifier\\large_keypoint.hdf5\n",
            "166/166 [==============================] - 0s 2ms/step - loss: 0.7562 - accuracy: 0.7264 - val_loss: 0.5810 - val_accuracy: 0.8206\n",
            "Epoch 37/1000\n",
            "141/166 [========================>.....] - ETA: 0s - loss: 0.7486 - accuracy: 0.7327\n",
            "Epoch 37: saving model to ../model/keypoint_classifier\\large_keypoint.hdf5\n",
            "166/166 [==============================] - 0s 2ms/step - loss: 0.7544 - accuracy: 0.7300 - val_loss: 0.5863 - val_accuracy: 0.8058\n",
            "Epoch 38/1000\n",
            "146/166 [=========================>....] - ETA: 0s - loss: 0.7414 - accuracy: 0.7344\n",
            "Epoch 38: saving model to ../model/keypoint_classifier\\large_keypoint.hdf5\n",
            "166/166 [==============================] - 0s 2ms/step - loss: 0.7434 - accuracy: 0.7332 - val_loss: 0.5828 - val_accuracy: 0.8329\n",
            "Epoch 39/1000\n",
            "145/166 [=========================>....] - ETA: 0s - loss: 0.7569 - accuracy: 0.7276\n",
            "Epoch 39: saving model to ../model/keypoint_classifier\\large_keypoint.hdf5\n",
            "166/166 [==============================] - 0s 2ms/step - loss: 0.7541 - accuracy: 0.7271 - val_loss: 0.5783 - val_accuracy: 0.8202\n",
            "Epoch 40/1000\n",
            "145/166 [=========================>....] - ETA: 0s - loss: 0.7543 - accuracy: 0.7276\n",
            "Epoch 40: saving model to ../model/keypoint_classifier\\large_keypoint.hdf5\n",
            "166/166 [==============================] - 0s 2ms/step - loss: 0.7517 - accuracy: 0.7282 - val_loss: 0.5756 - val_accuracy: 0.7995\n",
            "Epoch 41/1000\n",
            "140/166 [========================>.....] - ETA: 0s - loss: 0.7497 - accuracy: 0.7306\n",
            "Epoch 41: saving model to ../model/keypoint_classifier\\large_keypoint.hdf5\n",
            "166/166 [==============================] - 0s 2ms/step - loss: 0.7474 - accuracy: 0.7319 - val_loss: 0.5724 - val_accuracy: 0.8066\n",
            "Epoch 42/1000\n",
            "145/166 [=========================>....] - ETA: 0s - loss: 0.7435 - accuracy: 0.7322\n",
            "Epoch 42: saving model to ../model/keypoint_classifier\\large_keypoint.hdf5\n",
            "166/166 [==============================] - 0s 3ms/step - loss: 0.7439 - accuracy: 0.7328 - val_loss: 0.5763 - val_accuracy: 0.8150\n",
            "Epoch 43/1000\n",
            "141/166 [========================>.....] - ETA: 0s - loss: 0.7400 - accuracy: 0.7315\n",
            "Epoch 43: saving model to ../model/keypoint_classifier\\large_keypoint.hdf5\n",
            "166/166 [==============================] - 0s 2ms/step - loss: 0.7415 - accuracy: 0.7298 - val_loss: 0.5811 - val_accuracy: 0.8090\n",
            "Epoch 44/1000\n",
            "147/166 [=========================>....] - ETA: 0s - loss: 0.7368 - accuracy: 0.7314\n",
            "Epoch 44: saving model to ../model/keypoint_classifier\\large_keypoint.hdf5\n",
            "166/166 [==============================] - 0s 2ms/step - loss: 0.7393 - accuracy: 0.7319 - val_loss: 0.5688 - val_accuracy: 0.8148\n",
            "Epoch 45/1000\n",
            "146/166 [=========================>....] - ETA: 0s - loss: 0.7393 - accuracy: 0.7312\n",
            "Epoch 45: saving model to ../model/keypoint_classifier\\large_keypoint.hdf5\n",
            "166/166 [==============================] - 0s 2ms/step - loss: 0.7413 - accuracy: 0.7299 - val_loss: 0.5893 - val_accuracy: 0.8068\n",
            "Epoch 46/1000\n",
            "140/166 [========================>.....] - ETA: 0s - loss: 0.7372 - accuracy: 0.7344\n",
            "Epoch 46: saving model to ../model/keypoint_classifier\\large_keypoint.hdf5\n",
            "166/166 [==============================] - 0s 2ms/step - loss: 0.7352 - accuracy: 0.7356 - val_loss: 0.5768 - val_accuracy: 0.8202\n",
            "Epoch 47/1000\n",
            "142/166 [========================>.....] - ETA: 0s - loss: 0.7334 - accuracy: 0.7355\n",
            "Epoch 47: saving model to ../model/keypoint_classifier\\large_keypoint.hdf5\n",
            "166/166 [==============================] - 0s 2ms/step - loss: 0.7349 - accuracy: 0.7345 - val_loss: 0.5818 - val_accuracy: 0.8216\n",
            "Epoch 48/1000\n",
            "162/166 [============================>.] - ETA: 0s - loss: 0.7384 - accuracy: 0.7339\n",
            "Epoch 48: saving model to ../model/keypoint_classifier\\large_keypoint.hdf5\n",
            "166/166 [==============================] - 0s 3ms/step - loss: 0.7391 - accuracy: 0.7336 - val_loss: 0.5864 - val_accuracy: 0.8319\n",
            "Epoch 49/1000\n",
            "145/166 [=========================>....] - ETA: 0s - loss: 0.7377 - accuracy: 0.7351\n",
            "Epoch 49: saving model to ../model/keypoint_classifier\\large_keypoint.hdf5\n",
            "166/166 [==============================] - 0s 2ms/step - loss: 0.7379 - accuracy: 0.7352 - val_loss: 0.5912 - val_accuracy: 0.8200\n",
            "Epoch 50/1000\n",
            "143/166 [========================>.....] - ETA: 0s - loss: 0.7351 - accuracy: 0.7314\n",
            "Epoch 50: saving model to ../model/keypoint_classifier\\large_keypoint.hdf5\n",
            "166/166 [==============================] - 0s 2ms/step - loss: 0.7328 - accuracy: 0.7329 - val_loss: 0.5864 - val_accuracy: 0.8099\n",
            "Epoch 51/1000\n",
            "166/166 [==============================] - ETA: 0s - loss: 0.7350 - accuracy: 0.7365\n",
            "Epoch 51: saving model to ../model/keypoint_classifier\\large_keypoint.hdf5\n",
            "166/166 [==============================] - 0s 2ms/step - loss: 0.7350 - accuracy: 0.7365 - val_loss: 0.5805 - val_accuracy: 0.8210\n",
            "Epoch 52/1000\n",
            "163/166 [============================>.] - ETA: 0s - loss: 0.7287 - accuracy: 0.7379\n",
            "Epoch 52: saving model to ../model/keypoint_classifier\\large_keypoint.hdf5\n",
            "166/166 [==============================] - 0s 3ms/step - loss: 0.7297 - accuracy: 0.7374 - val_loss: 0.5788 - val_accuracy: 0.8126\n",
            "Epoch 53/1000\n",
            "164/166 [============================>.] - ETA: 0s - loss: 0.7265 - accuracy: 0.7347\n",
            "Epoch 53: saving model to ../model/keypoint_classifier\\large_keypoint.hdf5\n",
            "166/166 [==============================] - 0s 3ms/step - loss: 0.7259 - accuracy: 0.7353 - val_loss: 0.5869 - val_accuracy: 0.8265\n",
            "Epoch 54/1000\n",
            "143/166 [========================>.....] - ETA: 0s - loss: 0.7264 - accuracy: 0.7371\n",
            "Epoch 54: saving model to ../model/keypoint_classifier\\large_keypoint.hdf5\n",
            "166/166 [==============================] - 0s 2ms/step - loss: 0.7294 - accuracy: 0.7358 - val_loss: 0.5789 - val_accuracy: 0.8227\n",
            "Epoch 55/1000\n",
            "143/166 [========================>.....] - ETA: 0s - loss: 0.7297 - accuracy: 0.7361\n",
            "Epoch 55: saving model to ../model/keypoint_classifier\\large_keypoint.hdf5\n",
            "166/166 [==============================] - 0s 2ms/step - loss: 0.7270 - accuracy: 0.7377 - val_loss: 0.5781 - val_accuracy: 0.8199\n",
            "Epoch 56/1000\n",
            "140/166 [========================>.....] - ETA: 0s - loss: 0.7332 - accuracy: 0.7333\n",
            "Epoch 56: saving model to ../model/keypoint_classifier\\large_keypoint.hdf5\n",
            "166/166 [==============================] - 0s 2ms/step - loss: 0.7278 - accuracy: 0.7348 - val_loss: 0.5718 - val_accuracy: 0.8172\n",
            "Epoch 57/1000\n",
            "141/166 [========================>.....] - ETA: 0s - loss: 0.7239 - accuracy: 0.7375\n",
            "Epoch 57: saving model to ../model/keypoint_classifier\\large_keypoint.hdf5\n",
            "166/166 [==============================] - 0s 2ms/step - loss: 0.7247 - accuracy: 0.7372 - val_loss: 0.5767 - val_accuracy: 0.8107\n",
            "Epoch 58/1000\n",
            "153/166 [==========================>...] - ETA: 0s - loss: 0.7250 - accuracy: 0.7344\n",
            "Epoch 58: saving model to ../model/keypoint_classifier\\large_keypoint.hdf5\n",
            "166/166 [==============================] - 0s 3ms/step - loss: 0.7267 - accuracy: 0.7333 - val_loss: 0.5836 - val_accuracy: 0.8107\n",
            "Epoch 59/1000\n",
            "160/166 [===========================>..] - ETA: 0s - loss: 0.7200 - accuracy: 0.7380\n",
            "Epoch 59: saving model to ../model/keypoint_classifier\\large_keypoint.hdf5\n",
            "166/166 [==============================] - 1s 3ms/step - loss: 0.7219 - accuracy: 0.7374 - val_loss: 0.5892 - val_accuracy: 0.8168\n",
            "Epoch 60/1000\n",
            "151/166 [==========================>...] - ETA: 0s - loss: 0.7195 - accuracy: 0.7370\n",
            "Epoch 60: saving model to ../model/keypoint_classifier\\large_keypoint.hdf5\n",
            "166/166 [==============================] - 0s 3ms/step - loss: 0.7223 - accuracy: 0.7371 - val_loss: 0.5994 - val_accuracy: 0.8107\n",
            "Epoch 61/1000\n",
            "140/166 [========================>.....] - ETA: 0s - loss: 0.7226 - accuracy: 0.7366\n",
            "Epoch 61: saving model to ../model/keypoint_classifier\\large_keypoint.hdf5\n",
            "166/166 [==============================] - 0s 2ms/step - loss: 0.7158 - accuracy: 0.7396 - val_loss: 0.5958 - val_accuracy: 0.8181\n",
            "Epoch 62/1000\n",
            "152/166 [==========================>...] - ETA: 0s - loss: 0.7250 - accuracy: 0.7380\n",
            "Epoch 62: saving model to ../model/keypoint_classifier\\large_keypoint.hdf5\n",
            "166/166 [==============================] - 0s 3ms/step - loss: 0.7205 - accuracy: 0.7387 - val_loss: 0.5891 - val_accuracy: 0.8072\n",
            "Epoch 63/1000\n",
            "145/166 [=========================>....] - ETA: 0s - loss: 0.7267 - accuracy: 0.7322\n",
            "Epoch 63: saving model to ../model/keypoint_classifier\\large_keypoint.hdf5\n",
            "166/166 [==============================] - 0s 2ms/step - loss: 0.7230 - accuracy: 0.7343 - val_loss: 0.5916 - val_accuracy: 0.8094\n",
            "Epoch 64/1000\n",
            "142/166 [========================>.....] - ETA: 0s - loss: 0.7229 - accuracy: 0.7368\n",
            "Epoch 64: saving model to ../model/keypoint_classifier\\large_keypoint.hdf5\n",
            "166/166 [==============================] - 0s 2ms/step - loss: 0.7198 - accuracy: 0.7381 - val_loss: 0.5984 - val_accuracy: 0.8150\n",
            "Epoch 64: early stopping\n"
          ]
        },
        {
          "data": {
            "text/plain": [
              "<keras.src.callbacks.History at 0x1d819da8fa0>"
            ]
          },
          "execution_count": 13,
          "metadata": {},
          "output_type": "execute_result"
        }
      ],
      "source": [
        "model.fit(\n",
        "    X_train,\n",
        "    y_train,\n",
        "    epochs=1000,\n",
        "    batch_size=128,\n",
        "    validation_data=(X_test, y_test),\n",
        "    callbacks=[cp_callback, es_callback]\n",
        ")"
      ]
    },
    {
      "cell_type": "code",
      "execution_count": 14,
      "metadata": {
        "colab": {
          "base_uri": "https://localhost:8080/"
        },
        "id": "pxvb2Y299hE3",
        "outputId": "7c542df7-e20e-46df-ac4f-fdab884b32aa"
      },
      "outputs": [
        {
          "name": "stdout",
          "output_type": "stream",
          "text": [
            "56/56 [==============================] - 0s 1ms/step - loss: 0.5984 - accuracy: 0.8150\n"
          ]
        }
      ],
      "source": [
        "# Model evaluation\n",
        "val_loss, val_acc = model.evaluate(X_test, y_test, batch_size=128)"
      ]
    },
    {
      "cell_type": "code",
      "execution_count": 15,
      "metadata": {
        "id": "RBkmDeUW9hE4"
      },
      "outputs": [],
      "source": [
        "# Loading the saved model\n",
        "model = tf.keras.models.load_model(model_save_path)"
      ]
    },
    {
      "cell_type": "code",
      "execution_count": 16,
      "metadata": {
        "colab": {
          "base_uri": "https://localhost:8080/"
        },
        "id": "tFz9Tb0I9hE4",
        "outputId": "22602c35-c984-4d41-d165-0ca8268a69c0"
      },
      "outputs": [
        {
          "name": "stdout",
          "output_type": "stream",
          "text": [
            "1/1 [==============================] - 0s 89ms/step\n",
            "[6.70723850e-04 5.27043404e-08 1.50187961e-05 3.82374965e-05\n",
            " 1.38223395e-02 1.61866844e-01 8.23586822e-01 2.68835704e-10]\n",
            "6\n"
          ]
        }
      ],
      "source": [
        "# Inference test\n",
        "predict_result = model.predict(np.array([X_test[0]]))\n",
        "print(np.squeeze(predict_result))\n",
        "print(np.argmax(np.squeeze(predict_result)))"
      ]
    },
    {
      "cell_type": "markdown",
      "metadata": {
        "id": "S3U4yNWx9hE4"
      },
      "source": [
        "# Confusion matrix"
      ]
    },
    {
      "cell_type": "code",
      "execution_count": 17,
      "metadata": {},
      "outputs": [
        {
          "name": "stdout",
          "output_type": "stream",
          "text": [
            "5    910\n",
            "0    896\n",
            "4    886\n",
            "6    884\n",
            "3    878\n",
            "2    877\n",
            "7    873\n",
            "1    870\n",
            "Name: count, dtype: int64\n"
          ]
        }
      ],
      "source": [
        "series = pd.Series(y_test)\n",
        "\n",
        "# Use the value_counts method\n",
        "value_counts_result = series.value_counts()\n",
        "\n",
        "print(value_counts_result)\n"
      ]
    },
    {
      "cell_type": "code",
      "execution_count": 18,
      "metadata": {
        "colab": {
          "base_uri": "https://localhost:8080/",
          "height": 669
        },
        "id": "AP1V6SCk9hE5",
        "outputId": "cd47cd53-d8df-472f-8f49-29f6df6d22a2"
      },
      "outputs": [
        {
          "name": "stdout",
          "output_type": "stream",
          "text": [
            "222/222 [==============================] - 0s 1ms/step\n",
            "[0, 1, 2, 3, 4, 5, 6, 7]\n"
          ]
        },
        {
          "data": {
            "image/png": "[encoded data removed]",
            "text/plain": [
              "<Figure size 700x600 with 2 Axes>"
            ]
          },
          "metadata": {},
          "output_type": "display_data"
        },
        {
          "name": "stdout",
          "output_type": "stream",
          "text": [
            "Classification Report\n",
            "              precision    recall  f1-score   support\n",
            "\n",
            "           0       0.72      0.60      0.65       896\n",
            "           1       0.62      0.84      0.71       870\n",
            "           2       0.94      0.79      0.86       877\n",
            "           3       0.92      0.96      0.94       878\n",
            "           4       0.92      0.94      0.93       886\n",
            "           5       0.81      0.88      0.84       910\n",
            "           6       0.90      0.54      0.67       884\n",
            "           7       0.79      0.98      0.88       873\n",
            "\n",
            "    accuracy                           0.81      7074\n",
            "   macro avg       0.83      0.82      0.81      7074\n",
            "weighted avg       0.83      0.81      0.81      7074\n",
            "\n"
          ]
        }
      ],
      "source": [
        "import pandas as pd\n",
        "import seaborn as sns\n",
        "import matplotlib.pyplot as plt\n",
        "from sklearn.metrics import confusion_matrix, classification_report\n",
        "\n",
        "def print_confusion_matrix(y_true, y_pred, report=True):\n",
        "    labels = sorted(list(set(y_true)))\n",
        "    print(labels)\n",
        "    cmx_data = confusion_matrix(y_true, y_pred, labels=labels)\n",
        "    \n",
        "    df_cmx = pd.DataFrame(cmx_data, index=labels, columns=labels)\n",
        " \n",
        "    fig, ax = plt.subplots(figsize=(7, 6))\n",
        "    sns.heatmap(df_cmx, annot=True, fmt='g' ,square=False)\n",
        "    ax.set_ylim(len(set(y_true)), 0)\n",
        "    plt.show()\n",
        "    \n",
        "    if report:\n",
        "        print('Classification Report')\n",
        "        print(classification_report(y_test, y_pred))\n",
        "\n",
        "Y_pred = model.predict(X_test)\n",
        "y_pred = np.argmax(Y_pred, axis=1)\n",
        "\n",
        "print_confusion_matrix(y_test, y_pred)"
      ]
    },
    {
      "cell_type": "markdown",
      "metadata": {
        "id": "FNP6aqzc9hE5"
      },
      "source": [
        "# Convert to model for Tensorflow-Lite"
      ]
    },
    {
      "cell_type": "code",
      "execution_count": 19,
      "metadata": {
        "id": "ODjnYyld9hE6"
      },
      "outputs": [
        {
          "name": "stderr",
          "output_type": "stream",
          "text": [
            "c:\\Year 3\\FYP\\Modelling\\fyp_modelling\\lib\\site-packages\\keras\\src\\engine\\training.py:3103: UserWarning: You are saving your model as an HDF5 file via `model.save()`. This file format is considered legacy. We recommend using instead the native Keras format, e.g. `model.save('my_model.keras')`.\n",
            "  saving_api.save_model(\n"
          ]
        }
      ],
      "source": [
        "# Save as a model dedicated to inference\n",
        "model.save(model_save_path, include_optimizer=False)"
      ]
    },
    {
      "cell_type": "code",
      "execution_count": 20,
      "metadata": {
        "colab": {
          "base_uri": "https://localhost:8080/"
        },
        "id": "zRfuK8Y59hE6",
        "outputId": "5babaa50-02eb-4f00-aa06-a5d812128654"
      },
      "outputs": [
        {
          "name": "stdout",
          "output_type": "stream",
          "text": [
            "INFO:tensorflow:Assets written to: C:\\Users\\SHERMA~1\\AppData\\Local\\Temp\\tmp9ounbuow\\assets\n"
          ]
        },
        {
          "name": "stderr",
          "output_type": "stream",
          "text": [
            "INFO:tensorflow:Assets written to: C:\\Users\\SHERMA~1\\AppData\\Local\\Temp\\tmp9ounbuow\\assets\n"
          ]
        },
        {
          "data": {
            "text/plain": [
              "6720"
            ]
          },
          "execution_count": 20,
          "metadata": {},
          "output_type": "execute_result"
        }
      ],
      "source": [
        "# Transform model (quantization)\n",
        "\n",
        "converter = tf.lite.TFLiteConverter.from_keras_model(model)\n",
        "converter.optimizations = [tf.lite.Optimize.DEFAULT]\n",
        "tflite_quantized_model = converter.convert()\n",
        "\n",
        "open(tflite_save_path, 'wb').write(tflite_quantized_model)"
      ]
    },
    {
      "cell_type": "markdown",
      "metadata": {
        "id": "CHBPBXdx9hE6"
      },
      "source": [
        "# Inference test"
      ]
    },
    {
      "cell_type": "code",
      "execution_count": 21,
      "metadata": {
        "id": "mGAzLocO9hE7"
      },
      "outputs": [],
      "source": [
        "interpreter = tf.lite.Interpreter(model_path=tflite_save_path)\n",
        "interpreter.allocate_tensors()"
      ]
    },
    {
      "cell_type": "code",
      "execution_count": 22,
      "metadata": {
        "id": "oQuDK8YS9hE7"
      },
      "outputs": [],
      "source": [
        "# Get I / O tensor\n",
        "input_details = interpreter.get_input_details()\n",
        "output_details = interpreter.get_output_details()"
      ]
    },
    {
      "cell_type": "code",
      "execution_count": 23,
      "metadata": {
        "id": "2_ixAf_l9hE7"
      },
      "outputs": [],
      "source": [
        "input_data = np.array([X_test[0]], dtype=np.float32)\n",
        "interpreter.set_tensor(input_details[0]['index'], input_data)"
      ]
    },
    {
      "cell_type": "code",
      "execution_count": 24,
      "metadata": {
        "colab": {
          "base_uri": "https://localhost:8080/"
        },
        "id": "s4FoAnuc9hE7",
        "outputId": "c73bf25d-25bf-4079-8186-11155fc203aa",
        "scrolled": true
      },
      "outputs": [
        {
          "name": "stdout",
          "output_type": "stream",
          "text": [
            "CPU times: total: 0 ns\n",
            "Wall time: 1 ms\n"
          ]
        }
      ],
      "source": [
        "%%time\n",
        "# Inference implementation\n",
        "interpreter.invoke()\n",
        "tflite_results = interpreter.get_tensor(output_details[0]['index'])"
      ]
    },
    {
      "cell_type": "code",
      "execution_count": 25,
      "metadata": {
        "colab": {
          "base_uri": "https://localhost:8080/"
        },
        "id": "vONjp19J9hE8",
        "outputId": "6c8be325-964e-42c0-84e9-5de951ac0f93"
      },
      "outputs": [
        {
          "name": "stdout",
          "output_type": "stream",
          "text": [
            "[6.70723792e-04 5.27043262e-08 1.50187925e-05 3.82374892e-05\n",
            " 1.38223516e-02 1.61866888e-01 8.23586702e-01 2.68835620e-10]\n",
            "6\n"
          ]
        }
      ],
      "source": [
        "print(np.squeeze(tflite_results))\n",
        "print(np.argmax(np.squeeze(tflite_results)))"
      ]
    },
    {
      "cell_type": "code",
      "execution_count": 26,
      "metadata": {},
      "outputs": [
        {
          "data": {
            "text/plain": [
              "6"
            ]
          },
          "execution_count": 26,
          "metadata": {},
          "output_type": "execute_result"
        }
      ],
      "source": [
        "y_test[0]"
      ]
    }
  ],
  "metadata": {
    "accelerator": "GPU",
    "colab": {
      "provenance": []
    },
    "kernelspec": {
      "display_name": "Python 3",
      "language": "python",
      "name": "python3"
    },
    "language_info": {
      "codemirror_mode": {
        "name": "ipython",
        "version": 3
      },
      "file_extension": ".py",
      "mimetype": "text/x-python",
      "name": "python",
      "nbconvert_exporter": "python",
      "pygments_lexer": "ipython3",
      "version": "3.10.6"
    }
  },
  "nbformat": 4,
  "nbformat_minor": 0
}
