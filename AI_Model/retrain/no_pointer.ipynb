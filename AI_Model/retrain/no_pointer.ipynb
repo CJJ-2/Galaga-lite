{
  "cells": [
    {
      "cell_type": "code",
      "execution_count": 1,
      "metadata": {
        "id": "igMyGnjE9hEp"
      },
      "outputs": [
        {
          "name": "stdout",
          "output_type": "stream",
          "text": [
            "WARNING:tensorflow:From c:\\Year 3\\FYP\\Modelling\\fyp_modelling\\lib\\site-packages\\keras\\src\\losses.py:2976: The name tf.losses.sparse_softmax_cross_entropy is deprecated. Please use tf.compat.v1.losses.sparse_softmax_cross_entropy instead.\n",
            "\n"
          ]
        }
      ],
      "source": [
        "import csv\n",
        "\n",
        "import numpy as np\n",
        "import tensorflow as tf\n",
        "from sklearn.model_selection import train_test_split\n",
        "\n",
        "RANDOM_SEED = 42"
      ]
    },
    {
      "cell_type": "markdown",
      "metadata": {
        "id": "t2HDvhIu9hEr"
      },
      "source": [
        "# Specify each path"
      ]
    },
    {
      "cell_type": "code",
      "execution_count": 2,
      "metadata": {
        "id": "9NvZP2Zn9hEy"
      },
      "outputs": [],
      "source": [
        "dataset = \"../model/keypoint_classifier/new_keypoint.csv\"\n",
        "model_save_path = '../model/keypoint_classifier/no_pointer.hdf5'\n",
        "tflite_save_path = '../model/keypoint_classifier/no_pointer.tflite'"
      ]
    },
    {
      "cell_type": "markdown",
      "metadata": {
        "id": "s5oMH7x19hEz"
      },
      "source": [
        "# Set number of classes"
      ]
    },
    {
      "cell_type": "code",
      "execution_count": 3,
      "metadata": {
        "id": "du4kodXL9hEz"
      },
      "outputs": [],
      "source": [
        "NUM_CLASSES = 7"
      ]
    },
    {
      "cell_type": "markdown",
      "metadata": {
        "id": "XjnL0uso9hEz"
      },
      "source": [
        "# Dataset reading & Filtering"
      ]
    },
    {
      "cell_type": "code",
      "execution_count": 4,
      "metadata": {},
      "outputs": [],
      "source": [
        "import numpy as np\n",
        "import pandas as pd\n",
        "\n",
        "\n",
        "# Read the dataset from the CSV file\n",
        "df = pd.read_csv(dataset)\n",
        "\n",
        "# Filter rows with label 7\n",
        "data = df[df[df.columns[0]] != 7]"
      ]
    },
    {
      "cell_type": "markdown",
      "metadata": {},
      "source": [
        "# Data Balancing"
      ]
    },
    {
      "cell_type": "code",
      "execution_count": 5,
      "metadata": {},
      "outputs": [
        {
          "name": "stdout",
          "output_type": "stream",
          "text": [
            "Class distribution before resampling:\n",
            "Class 0: 4223 instances\n",
            "Class 1: 3929 instances\n",
            "Class 2: 3871 instances\n",
            "Class 3: 3283 instances\n",
            "Class 4: 3242 instances\n",
            "Class 5: 3256 instances\n",
            "Class 6: 3223 instances\n",
            "\n",
            "Class distribution after resampling:\n",
            "Class 0: 3283 instances\n",
            "Class 1: 3283 instances\n",
            "Class 2: 3283 instances\n",
            "Class 3: 3283 instances\n",
            "Class 4: 3283 instances\n",
            "Class 5: 3283 instances\n",
            "Class 6: 3283 instances\n"
          ]
        }
      ],
      "source": [
        "from imblearn.under_sampling import RandomUnderSampler\n",
        "from imblearn.over_sampling import RandomOverSampler\n",
        "\n",
        "# Specify the target variable\n",
        "balance_by = data.columns[0]\n",
        "\n",
        "# Function to determine the sampling strategy\n",
        "def sampling_strategy(X, y, n_samples, t='majority'):\n",
        "    target_classes = ''\n",
        "    if t == 'majority':\n",
        "        target_classes = y.value_counts() > n_samples\n",
        "    elif t == 'minority':\n",
        "        target_classes = y.value_counts() < n_samples\n",
        "    tc = target_classes[target_classes == True].index\n",
        "    sampling_strategy = {}\n",
        "    for target in tc:\n",
        "        sampling_strategy[target] = n_samples\n",
        "    return sampling_strategy\n",
        "\n",
        "# Calculate the median count for balancing\n",
        "n_samples = int(data[balance_by].value_counts().median())\n",
        "\n",
        "# Balancing the data using RandomUnderSampler and RandomOverSampler\n",
        "under_sampler = RandomUnderSampler(sampling_strategy=sampling_strategy(data.drop(balance_by, axis=1), data[balance_by], n_samples, t='majority'))\n",
        "X_under, y_under = under_sampler.fit_resample(data.drop(balance_by, axis=1), data[balance_by])\n",
        "\n",
        "over_sampler = RandomOverSampler(sampling_strategy=sampling_strategy(X_under, y_under, n_samples, t='minority'))\n",
        "X_bal, y_bal = over_sampler.fit_resample(X_under, y_under)\n",
        "\n",
        "balanced_data = pd.DataFrame(X_bal)\n",
        "balanced_data[balance_by] = y_bal\n",
        "\n",
        "# Print class distribution before resampling\n",
        "unique_classes_before, class_counts_before = np.unique(data[balance_by], return_counts=True)\n",
        "print(\"Class distribution before resampling:\")\n",
        "for class_label, count in zip(unique_classes_before, class_counts_before):\n",
        "    print(f\"Class {class_label}: {count} instances\")\n",
        "\n",
        "# Print class distribution after resampling\n",
        "unique_classes_after, class_counts_after = np.unique(balanced_data[balance_by], return_counts=True)\n",
        "print(\"\\nClass distribution after resampling:\")\n",
        "for class_label, count in zip(unique_classes_after, class_counts_after):\n",
        "    print(f\"Class {class_label}: {count} instances\")\n"
      ]
    },
    {
      "cell_type": "code",
      "execution_count": 6,
      "metadata": {},
      "outputs": [
        {
          "data": {
            "text/html": [
              "<div>\n",
              "<style scoped>\n",
              "    .dataframe tbody tr th:only-of-type {\n",
              "        vertical-align: middle;\n",
              "    }\n",
              "\n",
              "    .dataframe tbody tr th {\n",
              "        vertical-align: top;\n",
              "    }\n",
              "\n",
              "    .dataframe thead th {\n",
              "        text-align: right;\n",
              "    }\n",
              "</style>\n",
              "<table border=\"1\" class=\"dataframe\">\n",
              "  <thead>\n",
              "    <tr style=\"text-align: right;\">\n",
              "      <th></th>\n",
              "      <th>0.0</th>\n",
              "      <th>0.0.1</th>\n",
              "      <th>0.23605150214592274</th>\n",
              "      <th>-0.3776824034334764</th>\n",
              "      <th>0.30472103004291845</th>\n",
              "      <th>-0.630901287553648</th>\n",
              "      <th>0.3605150214592275</th>\n",
              "      <th>-0.8412017167381974</th>\n",
              "      <th>0.2832618025751073</th>\n",
              "      <th>-0.9957081545064378</th>\n",
              "      <th>...</th>\n",
              "      <th>-0.5150214592274678</th>\n",
              "      <th>-0.2017167381974249</th>\n",
              "      <th>-0.5793991416309013</th>\n",
              "      <th>0.11158798283261803</th>\n",
              "      <th>-0.6738197424892703.1</th>\n",
              "      <th>0.15450643776824036</th>\n",
              "      <th>-0.51931330472103</th>\n",
              "      <th>0.04721030042918455</th>\n",
              "      <th>-0.4592274678111588</th>\n",
              "      <th>0</th>\n",
              "    </tr>\n",
              "  </thead>\n",
              "  <tbody>\n",
              "    <tr>\n",
              "      <th>0</th>\n",
              "      <td>0.0</td>\n",
              "      <td>0.0</td>\n",
              "      <td>-0.158470</td>\n",
              "      <td>-0.153005</td>\n",
              "      <td>-0.226776</td>\n",
              "      <td>-0.355191</td>\n",
              "      <td>-0.215847</td>\n",
              "      <td>-0.538251</td>\n",
              "      <td>-0.204918</td>\n",
              "      <td>-0.683060</td>\n",
              "      <td>...</td>\n",
              "      <td>-0.956284</td>\n",
              "      <td>0.207650</td>\n",
              "      <td>-0.442623</td>\n",
              "      <td>0.213115</td>\n",
              "      <td>-0.603825</td>\n",
              "      <td>0.207650</td>\n",
              "      <td>-0.702186</td>\n",
              "      <td>0.185792</td>\n",
              "      <td>-0.797814</td>\n",
              "      <td>0</td>\n",
              "    </tr>\n",
              "    <tr>\n",
              "      <th>1</th>\n",
              "      <td>0.0</td>\n",
              "      <td>0.0</td>\n",
              "      <td>0.235632</td>\n",
              "      <td>-0.120690</td>\n",
              "      <td>0.545977</td>\n",
              "      <td>-0.402299</td>\n",
              "      <td>0.620690</td>\n",
              "      <td>-0.741379</td>\n",
              "      <td>0.505747</td>\n",
              "      <td>-0.988506</td>\n",
              "      <td>...</td>\n",
              "      <td>-0.597701</td>\n",
              "      <td>-0.045977</td>\n",
              "      <td>-0.758621</td>\n",
              "      <td>0.028736</td>\n",
              "      <td>-0.804598</td>\n",
              "      <td>0.034483</td>\n",
              "      <td>-0.591954</td>\n",
              "      <td>0.022989</td>\n",
              "      <td>-0.591954</td>\n",
              "      <td>0</td>\n",
              "    </tr>\n",
              "    <tr>\n",
              "      <th>2</th>\n",
              "      <td>0.0</td>\n",
              "      <td>0.0</td>\n",
              "      <td>0.213333</td>\n",
              "      <td>-0.080000</td>\n",
              "      <td>0.391111</td>\n",
              "      <td>-0.226667</td>\n",
              "      <td>0.528889</td>\n",
              "      <td>-0.351111</td>\n",
              "      <td>0.648889</td>\n",
              "      <td>-0.435556</td>\n",
              "      <td>...</td>\n",
              "      <td>-0.933333</td>\n",
              "      <td>-0.204444</td>\n",
              "      <td>-0.328889</td>\n",
              "      <td>-0.293333</td>\n",
              "      <td>-0.466667</td>\n",
              "      <td>-0.351111</td>\n",
              "      <td>-0.564444</td>\n",
              "      <td>-0.391111</td>\n",
              "      <td>-0.653333</td>\n",
              "      <td>0</td>\n",
              "    </tr>\n",
              "    <tr>\n",
              "      <th>3</th>\n",
              "      <td>0.0</td>\n",
              "      <td>0.0</td>\n",
              "      <td>0.195556</td>\n",
              "      <td>-0.137778</td>\n",
              "      <td>0.324444</td>\n",
              "      <td>-0.320000</td>\n",
              "      <td>0.422222</td>\n",
              "      <td>-0.448889</td>\n",
              "      <td>0.524444</td>\n",
              "      <td>-0.520000</td>\n",
              "      <td>...</td>\n",
              "      <td>-0.951111</td>\n",
              "      <td>-0.075556</td>\n",
              "      <td>-0.520000</td>\n",
              "      <td>-0.124444</td>\n",
              "      <td>-0.644444</td>\n",
              "      <td>-0.146667</td>\n",
              "      <td>-0.720000</td>\n",
              "      <td>-0.155556</td>\n",
              "      <td>-0.791111</td>\n",
              "      <td>0</td>\n",
              "    </tr>\n",
              "    <tr>\n",
              "      <th>4</th>\n",
              "      <td>0.0</td>\n",
              "      <td>0.0</td>\n",
              "      <td>-0.119760</td>\n",
              "      <td>-0.257485</td>\n",
              "      <td>-0.137725</td>\n",
              "      <td>-0.461078</td>\n",
              "      <td>-0.113772</td>\n",
              "      <td>-0.634731</td>\n",
              "      <td>-0.089820</td>\n",
              "      <td>-0.760479</td>\n",
              "      <td>...</td>\n",
              "      <td>-0.970060</td>\n",
              "      <td>0.233533</td>\n",
              "      <td>-0.461078</td>\n",
              "      <td>0.263473</td>\n",
              "      <td>-0.640719</td>\n",
              "      <td>0.281437</td>\n",
              "      <td>-0.754491</td>\n",
              "      <td>0.287425</td>\n",
              "      <td>-0.856287</td>\n",
              "      <td>0</td>\n",
              "    </tr>\n",
              "  </tbody>\n",
              "</table>\n",
              "<p>5 rows × 43 columns</p>\n",
              "</div>"
            ],
            "text/plain": [
              "   0.0  0.0.1  0.23605150214592274  -0.3776824034334764  0.30472103004291845  \\\n",
              "0  0.0    0.0            -0.158470            -0.153005            -0.226776   \n",
              "1  0.0    0.0             0.235632            -0.120690             0.545977   \n",
              "2  0.0    0.0             0.213333            -0.080000             0.391111   \n",
              "3  0.0    0.0             0.195556            -0.137778             0.324444   \n",
              "4  0.0    0.0            -0.119760            -0.257485            -0.137725   \n",
              "\n",
              "   -0.630901287553648  0.3605150214592275  -0.8412017167381974  \\\n",
              "0           -0.355191           -0.215847            -0.538251   \n",
              "1           -0.402299            0.620690            -0.741379   \n",
              "2           -0.226667            0.528889            -0.351111   \n",
              "3           -0.320000            0.422222            -0.448889   \n",
              "4           -0.461078           -0.113772            -0.634731   \n",
              "\n",
              "   0.2832618025751073  -0.9957081545064378  ...  -0.5150214592274678  \\\n",
              "0           -0.204918            -0.683060  ...            -0.956284   \n",
              "1            0.505747            -0.988506  ...            -0.597701   \n",
              "2            0.648889            -0.435556  ...            -0.933333   \n",
              "3            0.524444            -0.520000  ...            -0.951111   \n",
              "4           -0.089820            -0.760479  ...            -0.970060   \n",
              "\n",
              "   -0.2017167381974249  -0.5793991416309013  0.11158798283261803  \\\n",
              "0             0.207650            -0.442623             0.213115   \n",
              "1            -0.045977            -0.758621             0.028736   \n",
              "2            -0.204444            -0.328889            -0.293333   \n",
              "3            -0.075556            -0.520000            -0.124444   \n",
              "4             0.233533            -0.461078             0.263473   \n",
              "\n",
              "   -0.6738197424892703.1  0.15450643776824036  -0.51931330472103  \\\n",
              "0              -0.603825             0.207650          -0.702186   \n",
              "1              -0.804598             0.034483          -0.591954   \n",
              "2              -0.466667            -0.351111          -0.564444   \n",
              "3              -0.644444            -0.146667          -0.720000   \n",
              "4              -0.640719             0.281437          -0.754491   \n",
              "\n",
              "   0.04721030042918455  -0.4592274678111588  0  \n",
              "0             0.185792            -0.797814  0  \n",
              "1             0.022989            -0.591954  0  \n",
              "2            -0.391111            -0.653333  0  \n",
              "3            -0.155556            -0.791111  0  \n",
              "4             0.287425            -0.856287  0  \n",
              "\n",
              "[5 rows x 43 columns]"
            ]
          },
          "execution_count": 6,
          "metadata": {},
          "output_type": "execute_result"
        }
      ],
      "source": [
        "balanced_data.head()"
      ]
    },
    {
      "cell_type": "code",
      "execution_count": 7,
      "metadata": {},
      "outputs": [
        {
          "data": {
            "text/plain": [
              "array([[ 0.        ,  0.        , -0.15846995, ..., -0.70218579,\n",
              "         0.18579235, -0.79781421],\n",
              "       [ 0.        ,  0.        ,  0.23563218, ..., -0.59195402,\n",
              "         0.02298851, -0.59195402],\n",
              "       [ 0.        ,  0.        ,  0.21333333, ..., -0.56444444,\n",
              "        -0.39111111, -0.65333333],\n",
              "       ...,\n",
              "       [ 0.        ,  0.        ,  0.3828125 , ..., -0.71875   ,\n",
              "        -0.265625  , -0.609375  ],\n",
              "       [ 0.        ,  0.        ,  0.30503979, ..., -0.47480106,\n",
              "         0.0795756 , -0.3872679 ],\n",
              "       [ 0.        ,  0.        ,  0.22807018, ..., -0.47953216,\n",
              "        -0.43859649, -0.48538012]])"
            ]
          },
          "execution_count": 7,
          "metadata": {},
          "output_type": "execute_result"
        }
      ],
      "source": [
        "X_dataset = np.array(balanced_data.drop(balance_by, axis=1))\n",
        "X_dataset"
      ]
    },
    {
      "cell_type": "code",
      "execution_count": 8,
      "metadata": {},
      "outputs": [
        {
          "data": {
            "text/plain": [
              "array([0, 0, 0, ..., 6, 6, 6], dtype=int64)"
            ]
          },
          "execution_count": 8,
          "metadata": {},
          "output_type": "execute_result"
        }
      ],
      "source": [
        "y_dataset = np.array(balanced_data[balance_by])\n",
        "y_dataset"
      ]
    },
    {
      "cell_type": "code",
      "execution_count": 9,
      "metadata": {
        "id": "xQU7JTZ_9hE0"
      },
      "outputs": [],
      "source": [
        "X_train, X_test, y_train, y_test = train_test_split(X_dataset, y_dataset, train_size=0.75, random_state=RANDOM_SEED)"
      ]
    },
    {
      "cell_type": "markdown",
      "metadata": {
        "id": "mxK_lETT9hE0"
      },
      "source": [
        "# Model building"
      ]
    },
    {
      "cell_type": "code",
      "execution_count": 10,
      "metadata": {
        "id": "vHBmUf1t9hE1"
      },
      "outputs": [
        {
          "name": "stdout",
          "output_type": "stream",
          "text": [
            "WARNING:tensorflow:From c:\\Year 3\\FYP\\Modelling\\fyp_modelling\\lib\\site-packages\\keras\\src\\backend.py:1398: The name tf.executing_eagerly_outside_functions is deprecated. Please use tf.compat.v1.executing_eagerly_outside_functions instead.\n",
            "\n"
          ]
        }
      ],
      "source": [
        "model = tf.keras.models.Sequential([\n",
        "    tf.keras.layers.Input((21 * 2, )),\n",
        "    tf.keras.layers.Dropout(0.2),\n",
        "    tf.keras.layers.Dense(20, activation='relu'),\n",
        "    tf.keras.layers.Dropout(0.4),\n",
        "    tf.keras.layers.Dense(10, activation='relu'),\n",
        "    tf.keras.layers.Dense(NUM_CLASSES, activation='softmax')\n",
        "])"
      ]
    },
    {
      "cell_type": "code",
      "execution_count": 11,
      "metadata": {
        "colab": {
          "base_uri": "https://localhost:8080/"
        },
        "id": "ypqky9tc9hE1",
        "outputId": "50df0ea3-9b0b-4a09-9378-f238d1602e01"
      },
      "outputs": [
        {
          "name": "stdout",
          "output_type": "stream",
          "text": [
            "Model: \"sequential\"\n",
            "_________________________________________________________________\n",
            " Layer (type)                Output Shape              Param #   \n",
            "=================================================================\n",
            " dropout (Dropout)           (None, 42)                0         \n",
            "                                                                 \n",
            " dense (Dense)               (None, 20)                860       \n",
            "                                                                 \n",
            " dropout_1 (Dropout)         (None, 20)                0         \n",
            "                                                                 \n",
            " dense_1 (Dense)             (None, 10)                210       \n",
            "                                                                 \n",
            " dense_2 (Dense)             (None, 7)                 77        \n",
            "                                                                 \n",
            "=================================================================\n",
            "Total params: 1147 (4.48 KB)\n",
            "Trainable params: 1147 (4.48 KB)\n",
            "Non-trainable params: 0 (0.00 Byte)\n",
            "_________________________________________________________________\n"
          ]
        }
      ],
      "source": [
        "model.summary()  # tf.keras.utils.plot_model(model, show_shapes=True)"
      ]
    },
    {
      "cell_type": "code",
      "execution_count": 12,
      "metadata": {
        "id": "MbMjOflQ9hE1"
      },
      "outputs": [],
      "source": [
        "# Model checkpoint callback\n",
        "cp_callback = tf.keras.callbacks.ModelCheckpoint(\n",
        "    model_save_path, verbose=1, save_weights_only=False)\n",
        "# Callback for early stopping\n",
        "es_callback = tf.keras.callbacks.EarlyStopping(patience=20, verbose=1)"
      ]
    },
    {
      "cell_type": "code",
      "execution_count": 13,
      "metadata": {
        "id": "c3Dac0M_9hE2"
      },
      "outputs": [
        {
          "name": "stdout",
          "output_type": "stream",
          "text": [
            "WARNING:tensorflow:From c:\\Year 3\\FYP\\Modelling\\fyp_modelling\\lib\\site-packages\\keras\\src\\optimizers\\__init__.py:309: The name tf.train.Optimizer is deprecated. Please use tf.compat.v1.train.Optimizer instead.\n",
            "\n"
          ]
        }
      ],
      "source": [
        "# Model compilation\n",
        "model.compile(\n",
        "    optimizer='adam',\n",
        "    loss='sparse_categorical_crossentropy',\n",
        "    metrics=['accuracy']\n",
        ")"
      ]
    },
    {
      "cell_type": "markdown",
      "metadata": {
        "id": "7XI0j1Iu9hE2"
      },
      "source": [
        "# Model training"
      ]
    },
    {
      "cell_type": "code",
      "execution_count": 28,
      "metadata": {
        "colab": {
          "base_uri": "https://localhost:8080/"
        },
        "id": "WirBl-JE9hE3",
        "outputId": "cdb63228-c6af-405b-8cf4-11bef3347226",
        "scrolled": true
      },
      "outputs": [
        {
          "name": "stdout",
          "output_type": "stream",
          "text": [
            "Epoch 1/1000\n",
            "111/135 [=======================>......] - ETA: 0s - loss: 0.5838 - accuracy: 0.8116\n",
            "Epoch 1: saving model to ../model/keypoint_classifier\\no_pointer.hdf5\n",
            "135/135 [==============================] - 1s 3ms/step - loss: 0.5801 - accuracy: 0.8117 - val_loss: 0.3696 - val_accuracy: 0.9032\n",
            "Epoch 2/1000\n",
            " 78/135 [================>.............] - ETA: 0s - loss: 0.5796 - accuracy: 0.8141"
          ]
        },
        {
          "name": "stderr",
          "output_type": "stream",
          "text": [
            "c:\\Year 3\\FYP\\Modelling\\fyp_modelling\\lib\\site-packages\\keras\\src\\engine\\training.py:3103: UserWarning: You are saving your model as an HDF5 file via `model.save()`. This file format is considered legacy. We recommend using instead the native Keras format, e.g. `model.save('my_model.keras')`.\n",
            "  saving_api.save_model(\n"
          ]
        },
        {
          "name": "stdout",
          "output_type": "stream",
          "text": [
            "127/135 [===========================>..] - ETA: 0s - loss: 0.5758 - accuracy: 0.8145\n",
            "Epoch 2: saving model to ../model/keypoint_classifier\\no_pointer.hdf5\n",
            "135/135 [==============================] - 0s 3ms/step - loss: 0.5756 - accuracy: 0.8143 - val_loss: 0.3575 - val_accuracy: 0.9132\n",
            "Epoch 3/1000\n",
            "135/135 [==============================] - ETA: 0s - loss: 0.5796 - accuracy: 0.8143\n",
            "Epoch 3: saving model to ../model/keypoint_classifier\\no_pointer.hdf5\n",
            "135/135 [==============================] - 0s 3ms/step - loss: 0.5796 - accuracy: 0.8143 - val_loss: 0.3588 - val_accuracy: 0.9125\n",
            "Epoch 4/1000\n",
            "113/135 [========================>.....] - ETA: 0s - loss: 0.5853 - accuracy: 0.8131\n",
            "Epoch 4: saving model to ../model/keypoint_classifier\\no_pointer.hdf5\n",
            "135/135 [==============================] - 0s 3ms/step - loss: 0.5848 - accuracy: 0.8133 - val_loss: 0.3609 - val_accuracy: 0.9121\n",
            "Epoch 5/1000\n",
            "108/135 [=======================>......] - ETA: 0s - loss: 0.5876 - accuracy: 0.8095\n",
            "Epoch 5: saving model to ../model/keypoint_classifier\\no_pointer.hdf5\n",
            "135/135 [==============================] - 0s 3ms/step - loss: 0.5861 - accuracy: 0.8096 - val_loss: 0.3690 - val_accuracy: 0.9107\n",
            "Epoch 6/1000\n",
            "131/135 [============================>.] - ETA: 0s - loss: 0.5771 - accuracy: 0.8175\n",
            "Epoch 6: saving model to ../model/keypoint_classifier\\no_pointer.hdf5\n",
            "135/135 [==============================] - 0s 3ms/step - loss: 0.5772 - accuracy: 0.8173 - val_loss: 0.3647 - val_accuracy: 0.9109\n",
            "Epoch 7/1000\n",
            "133/135 [============================>.] - ETA: 0s - loss: 0.5863 - accuracy: 0.8102\n",
            "Epoch 7: saving model to ../model/keypoint_classifier\\no_pointer.hdf5\n",
            "135/135 [==============================] - 0s 3ms/step - loss: 0.5852 - accuracy: 0.8104 - val_loss: 0.3565 - val_accuracy: 0.9147\n",
            "Epoch 8/1000\n",
            "128/135 [===========================>..] - ETA: 0s - loss: 0.5811 - accuracy: 0.8169\n",
            "Epoch 8: saving model to ../model/keypoint_classifier\\no_pointer.hdf5\n",
            "135/135 [==============================] - 0s 3ms/step - loss: 0.5797 - accuracy: 0.8169 - val_loss: 0.3700 - val_accuracy: 0.9093\n",
            "Epoch 9/1000\n",
            "107/135 [======================>.......] - ETA: 0s - loss: 0.5868 - accuracy: 0.8110\n",
            "Epoch 9: saving model to ../model/keypoint_classifier\\no_pointer.hdf5\n",
            "135/135 [==============================] - 0s 3ms/step - loss: 0.5809 - accuracy: 0.8135 - val_loss: 0.3651 - val_accuracy: 0.9119\n",
            "Epoch 10/1000\n",
            "133/135 [============================>.] - ETA: 0s - loss: 0.5793 - accuracy: 0.8160\n",
            "Epoch 10: saving model to ../model/keypoint_classifier\\no_pointer.hdf5\n",
            "135/135 [==============================] - 0s 3ms/step - loss: 0.5796 - accuracy: 0.8160 - val_loss: 0.3747 - val_accuracy: 0.9039\n",
            "Epoch 11/1000\n",
            "116/135 [========================>.....] - ETA: 0s - loss: 0.5791 - accuracy: 0.8155\n",
            "Epoch 11: saving model to ../model/keypoint_classifier\\no_pointer.hdf5\n",
            "135/135 [==============================] - 0s 2ms/step - loss: 0.5773 - accuracy: 0.8160 - val_loss: 0.3718 - val_accuracy: 0.9090\n",
            "Epoch 12/1000\n",
            "122/135 [==========================>...] - ETA: 0s - loss: 0.5805 - accuracy: 0.8148\n",
            "Epoch 12: saving model to ../model/keypoint_classifier\\no_pointer.hdf5\n",
            "135/135 [==============================] - 0s 3ms/step - loss: 0.5783 - accuracy: 0.8153 - val_loss: 0.3660 - val_accuracy: 0.9095\n",
            "Epoch 13/1000\n",
            "126/135 [===========================>..] - ETA: 0s - loss: 0.5731 - accuracy: 0.8150\n",
            "Epoch 13: saving model to ../model/keypoint_classifier\\no_pointer.hdf5\n",
            "135/135 [==============================] - 0s 3ms/step - loss: 0.5727 - accuracy: 0.8162 - val_loss: 0.3706 - val_accuracy: 0.9107\n",
            "Epoch 14/1000\n",
            "128/135 [===========================>..] - ETA: 0s - loss: 0.5710 - accuracy: 0.8145\n",
            "Epoch 14: saving model to ../model/keypoint_classifier\\no_pointer.hdf5\n",
            "135/135 [==============================] - 0s 3ms/step - loss: 0.5730 - accuracy: 0.8142 - val_loss: 0.3758 - val_accuracy: 0.9085\n",
            "Epoch 15/1000\n",
            "112/135 [=======================>......] - ETA: 0s - loss: 0.5726 - accuracy: 0.8172\n",
            "Epoch 15: saving model to ../model/keypoint_classifier\\no_pointer.hdf5\n",
            "135/135 [==============================] - 0s 2ms/step - loss: 0.5743 - accuracy: 0.8168 - val_loss: 0.3763 - val_accuracy: 0.9064\n",
            "Epoch 16/1000\n",
            "130/135 [===========================>..] - ETA: 0s - loss: 0.5680 - accuracy: 0.8224\n",
            "Epoch 16: saving model to ../model/keypoint_classifier\\no_pointer.hdf5\n",
            "135/135 [==============================] - 0s 3ms/step - loss: 0.5705 - accuracy: 0.8212 - val_loss: 0.3807 - val_accuracy: 0.9041\n",
            "Epoch 17/1000\n",
            "125/135 [==========================>...] - ETA: 0s - loss: 0.5761 - accuracy: 0.8201\n",
            "Epoch 17: saving model to ../model/keypoint_classifier\\no_pointer.hdf5\n",
            "135/135 [==============================] - 0s 3ms/step - loss: 0.5747 - accuracy: 0.8199 - val_loss: 0.3791 - val_accuracy: 0.9062\n",
            "Epoch 18/1000\n",
            "119/135 [=========================>....] - ETA: 0s - loss: 0.5690 - accuracy: 0.8155\n",
            "Epoch 18: saving model to ../model/keypoint_classifier\\no_pointer.hdf5\n",
            "135/135 [==============================] - 0s 3ms/step - loss: 0.5714 - accuracy: 0.8150 - val_loss: 0.3716 - val_accuracy: 0.9114\n",
            "Epoch 19/1000\n",
            "123/135 [==========================>...] - ETA: 0s - loss: 0.5702 - accuracy: 0.8147\n",
            "Epoch 19: saving model to ../model/keypoint_classifier\\no_pointer.hdf5\n",
            "135/135 [==============================] - 0s 3ms/step - loss: 0.5718 - accuracy: 0.8152 - val_loss: 0.3801 - val_accuracy: 0.9052\n",
            "Epoch 20/1000\n",
            "131/135 [============================>.] - ETA: 0s - loss: 0.5764 - accuracy: 0.8189\n",
            "Epoch 20: saving model to ../model/keypoint_classifier\\no_pointer.hdf5\n",
            "135/135 [==============================] - 0s 3ms/step - loss: 0.5773 - accuracy: 0.8178 - val_loss: 0.3770 - val_accuracy: 0.9079\n",
            "Epoch 21/1000\n",
            "132/135 [============================>.] - ETA: 0s - loss: 0.5619 - accuracy: 0.8216\n",
            "Epoch 21: saving model to ../model/keypoint_classifier\\no_pointer.hdf5\n",
            "135/135 [==============================] - 0s 3ms/step - loss: 0.5628 - accuracy: 0.8216 - val_loss: 0.3817 - val_accuracy: 0.9076\n",
            "Epoch 22/1000\n",
            "129/135 [===========================>..] - ETA: 0s - loss: 0.5680 - accuracy: 0.8181\n",
            "Epoch 22: saving model to ../model/keypoint_classifier\\no_pointer.hdf5\n",
            "135/135 [==============================] - 0s 3ms/step - loss: 0.5681 - accuracy: 0.8178 - val_loss: 0.3758 - val_accuracy: 0.9092\n",
            "Epoch 23/1000\n",
            "131/135 [============================>.] - ETA: 0s - loss: 0.5604 - accuracy: 0.8182\n",
            "Epoch 23: saving model to ../model/keypoint_classifier\\no_pointer.hdf5\n",
            "135/135 [==============================] - 0s 3ms/step - loss: 0.5607 - accuracy: 0.8190 - val_loss: 0.3670 - val_accuracy: 0.9118\n",
            "Epoch 24/1000\n",
            "115/135 [========================>.....] - ETA: 0s - loss: 0.5800 - accuracy: 0.8158\n",
            "Epoch 24: saving model to ../model/keypoint_classifier\\no_pointer.hdf5\n",
            "135/135 [==============================] - 0s 3ms/step - loss: 0.5733 - accuracy: 0.8186 - val_loss: 0.3952 - val_accuracy: 0.8992\n",
            "Epoch 25/1000\n",
            "110/135 [=======================>......] - ETA: 0s - loss: 0.5767 - accuracy: 0.8211\n",
            "Epoch 25: saving model to ../model/keypoint_classifier\\no_pointer.hdf5\n",
            "135/135 [==============================] - 0s 3ms/step - loss: 0.5717 - accuracy: 0.8201 - val_loss: 0.3910 - val_accuracy: 0.8991\n",
            "Epoch 26/1000\n",
            "112/135 [=======================>......] - ETA: 0s - loss: 0.5671 - accuracy: 0.8209\n",
            "Epoch 26: saving model to ../model/keypoint_classifier\\no_pointer.hdf5\n",
            "135/135 [==============================] - 0s 3ms/step - loss: 0.5642 - accuracy: 0.8220 - val_loss: 0.3808 - val_accuracy: 0.9088\n",
            "Epoch 27/1000\n",
            "127/135 [===========================>..] - ETA: 0s - loss: 0.5529 - accuracy: 0.8270\n",
            "Epoch 27: saving model to ../model/keypoint_classifier\\no_pointer.hdf5\n",
            "135/135 [==============================] - 0s 3ms/step - loss: 0.5541 - accuracy: 0.8264 - val_loss: 0.3953 - val_accuracy: 0.8970\n",
            "Epoch 27: early stopping\n"
          ]
        },
        {
          "data": {
            "text/plain": [
              "<keras.src.callbacks.History at 0x205a02ff220>"
            ]
          },
          "execution_count": 28,
          "metadata": {},
          "output_type": "execute_result"
        }
      ],
      "source": [
        "model.fit(\n",
        "    X_train,\n",
        "    y_train,\n",
        "    epochs=1000,\n",
        "    batch_size=128,\n",
        "    validation_data=(X_test, y_test),\n",
        "    callbacks=[cp_callback, es_callback]\n",
        ")"
      ]
    },
    {
      "cell_type": "code",
      "execution_count": 15,
      "metadata": {
        "colab": {
          "base_uri": "https://localhost:8080/"
        },
        "id": "pxvb2Y299hE3",
        "outputId": "7c542df7-e20e-46df-ac4f-fdab884b32aa"
      },
      "outputs": [
        {
          "name": "stdout",
          "output_type": "stream",
          "text": [
            "45/45 [==============================] - 0s 1ms/step - loss: 0.3704 - accuracy: 0.9067\n"
          ]
        }
      ],
      "source": [
        "# Model evaluation\n",
        "val_loss, val_acc = model.evaluate(X_test, y_test, batch_size=128)"
      ]
    },
    {
      "cell_type": "code",
      "execution_count": 16,
      "metadata": {
        "id": "RBkmDeUW9hE4"
      },
      "outputs": [],
      "source": [
        "# Loading the saved model\n",
        "model = tf.keras.models.load_model(model_save_path)"
      ]
    },
    {
      "cell_type": "code",
      "execution_count": 17,
      "metadata": {
        "colab": {
          "base_uri": "https://localhost:8080/"
        },
        "id": "tFz9Tb0I9hE4",
        "outputId": "22602c35-c984-4d41-d165-0ca8268a69c0"
      },
      "outputs": [
        {
          "name": "stdout",
          "output_type": "stream",
          "text": [
            "1/1 [==============================] - 0s 99ms/step\n",
            "[1.1432024e-03 1.1343946e-05 2.2252920e-07 1.7230863e-02 9.8059571e-01\n",
            " 5.4333027e-04 4.7526552e-04]\n",
            "4\n"
          ]
        }
      ],
      "source": [
        "# Inference test\n",
        "predict_result = model.predict(np.array([X_test[0]]))\n",
        "print(np.squeeze(predict_result))\n",
        "print(np.argmax(np.squeeze(predict_result)))"
      ]
    },
    {
      "cell_type": "markdown",
      "metadata": {
        "id": "S3U4yNWx9hE4"
      },
      "source": [
        "# Confusion matrix"
      ]
    },
    {
      "cell_type": "code",
      "execution_count": 18,
      "metadata": {},
      "outputs": [
        {
          "name": "stdout",
          "output_type": "stream",
          "text": [
            "1    864\n",
            "5    834\n",
            "4    820\n",
            "3    818\n",
            "2    810\n",
            "6    804\n",
            "0    796\n",
            "Name: count, dtype: int64\n"
          ]
        }
      ],
      "source": [
        "series = pd.Series(y_test)\n",
        "\n",
        "# Use the value_counts method\n",
        "value_counts_result = series.value_counts()\n",
        "\n",
        "print(value_counts_result)\n"
      ]
    },
    {
      "cell_type": "code",
      "execution_count": 19,
      "metadata": {
        "colab": {
          "base_uri": "https://localhost:8080/",
          "height": 669
        },
        "id": "AP1V6SCk9hE5",
        "outputId": "cd47cd53-d8df-472f-8f49-29f6df6d22a2"
      },
      "outputs": [
        {
          "name": "stdout",
          "output_type": "stream",
          "text": [
            "180/180 [==============================] - 0s 1ms/step\n",
            "[0, 1, 2, 3, 4, 5, 6]\n"
          ]
        },
        {
          "data": {
            "image/png": "[encoded data removed]",
            "text/plain": [
              "<Figure size 700x600 with 2 Axes>"
            ]
          },
          "metadata": {},
          "output_type": "display_data"
        },
        {
          "name": "stdout",
          "output_type": "stream",
          "text": [
            "Classification Report\n",
            "              precision    recall  f1-score   support\n",
            "\n",
            "           0       0.88      0.74      0.80       796\n",
            "           1       0.88      0.92      0.90       864\n",
            "           2       0.89      0.95      0.92       810\n",
            "           3       0.93      0.95      0.94       818\n",
            "           4       0.94      0.94      0.94       820\n",
            "           5       0.94      0.91      0.92       834\n",
            "           6       0.88      0.94      0.91       804\n",
            "\n",
            "    accuracy                           0.91      5746\n",
            "   macro avg       0.91      0.91      0.91      5746\n",
            "weighted avg       0.91      0.91      0.91      5746\n",
            "\n"
          ]
        }
      ],
      "source": [
        "import pandas as pd\n",
        "import seaborn as sns\n",
        "import matplotlib.pyplot as plt\n",
        "from sklearn.metrics import confusion_matrix, classification_report\n",
        "\n",
        "def print_confusion_matrix(y_true, y_pred, report=True):\n",
        "    labels = sorted(list(set(y_true)))\n",
        "    print(labels)\n",
        "    cmx_data = confusion_matrix(y_true, y_pred, labels=labels)\n",
        "    \n",
        "    df_cmx = pd.DataFrame(cmx_data, index=labels, columns=labels)\n",
        " \n",
        "    fig, ax = plt.subplots(figsize=(7, 6))\n",
        "    sns.heatmap(df_cmx, annot=True, fmt='g' ,square=False)\n",
        "    ax.set_ylim(len(set(y_true)), 0)\n",
        "    plt.show()\n",
        "    \n",
        "    if report:\n",
        "        print('Classification Report')\n",
        "        print(classification_report(y_test, y_pred))\n",
        "\n",
        "Y_pred = model.predict(X_test)\n",
        "y_pred = np.argmax(Y_pred, axis=1)\n",
        "\n",
        "print_confusion_matrix(y_test, y_pred)"
      ]
    },
    {
      "cell_type": "markdown",
      "metadata": {
        "id": "FNP6aqzc9hE5"
      },
      "source": [
        "# Convert to model for Tensorflow-Lite"
      ]
    },
    {
      "cell_type": "code",
      "execution_count": 20,
      "metadata": {
        "id": "ODjnYyld9hE6"
      },
      "outputs": [
        {
          "name": "stderr",
          "output_type": "stream",
          "text": [
            "c:\\Year 3\\FYP\\Modelling\\fyp_modelling\\lib\\site-packages\\keras\\src\\engine\\training.py:3103: UserWarning: You are saving your model as an HDF5 file via `model.save()`. This file format is considered legacy. We recommend using instead the native Keras format, e.g. `model.save('my_model.keras')`.\n",
            "  saving_api.save_model(\n"
          ]
        }
      ],
      "source": [
        "# Save as a model dedicated to inference\n",
        "model.save(model_save_path, include_optimizer=False)"
      ]
    },
    {
      "cell_type": "code",
      "execution_count": 21,
      "metadata": {
        "colab": {
          "base_uri": "https://localhost:8080/"
        },
        "id": "zRfuK8Y59hE6",
        "outputId": "5babaa50-02eb-4f00-aa06-a5d812128654"
      },
      "outputs": [
        {
          "name": "stdout",
          "output_type": "stream",
          "text": [
            "INFO:tensorflow:Assets written to: C:\\Users\\SHERMA~1\\AppData\\Local\\Temp\\tmpn8n3l3e0\\assets\n"
          ]
        },
        {
          "name": "stderr",
          "output_type": "stream",
          "text": [
            "INFO:tensorflow:Assets written to: C:\\Users\\SHERMA~1\\AppData\\Local\\Temp\\tmpn8n3l3e0\\assets\n"
          ]
        },
        {
          "data": {
            "text/plain": [
              "6676"
            ]
          },
          "execution_count": 21,
          "metadata": {},
          "output_type": "execute_result"
        }
      ],
      "source": [
        "# Transform model (quantization)\n",
        "\n",
        "converter = tf.lite.TFLiteConverter.from_keras_model(model)\n",
        "converter.optimizations = [tf.lite.Optimize.DEFAULT]\n",
        "tflite_quantized_model = converter.convert()\n",
        "\n",
        "open(tflite_save_path, 'wb').write(tflite_quantized_model)"
      ]
    },
    {
      "cell_type": "markdown",
      "metadata": {
        "id": "CHBPBXdx9hE6"
      },
      "source": [
        "# Inference test"
      ]
    },
    {
      "cell_type": "code",
      "execution_count": 22,
      "metadata": {
        "id": "mGAzLocO9hE7"
      },
      "outputs": [],
      "source": [
        "interpreter = tf.lite.Interpreter(model_path=tflite_save_path)\n",
        "interpreter.allocate_tensors()"
      ]
    },
    {
      "cell_type": "code",
      "execution_count": 23,
      "metadata": {
        "id": "oQuDK8YS9hE7"
      },
      "outputs": [],
      "source": [
        "# Get I / O tensor\n",
        "input_details = interpreter.get_input_details()\n",
        "output_details = interpreter.get_output_details()"
      ]
    },
    {
      "cell_type": "code",
      "execution_count": 24,
      "metadata": {
        "id": "2_ixAf_l9hE7"
      },
      "outputs": [],
      "source": [
        "input_data = np.array([X_test[0]], dtype=np.float32)\n",
        "interpreter.set_tensor(input_details[0]['index'], input_data)"
      ]
    },
    {
      "cell_type": "code",
      "execution_count": 25,
      "metadata": {
        "colab": {
          "base_uri": "https://localhost:8080/"
        },
        "id": "s4FoAnuc9hE7",
        "outputId": "c73bf25d-25bf-4079-8186-11155fc203aa",
        "scrolled": true
      },
      "outputs": [
        {
          "name": "stdout",
          "output_type": "stream",
          "text": [
            "CPU times: total: 0 ns\n",
            "Wall time: 0 ns\n"
          ]
        }
      ],
      "source": [
        "%%time\n",
        "# Inference implementation\n",
        "interpreter.invoke()\n",
        "tflite_results = interpreter.get_tensor(output_details[0]['index'])"
      ]
    },
    {
      "cell_type": "code",
      "execution_count": 26,
      "metadata": {
        "colab": {
          "base_uri": "https://localhost:8080/"
        },
        "id": "vONjp19J9hE8",
        "outputId": "6c8be325-964e-42c0-84e9-5de951ac0f93"
      },
      "outputs": [
        {
          "name": "stdout",
          "output_type": "stream",
          "text": [
            "[1.1432033e-03 1.1343967e-05 2.2252959e-07 1.7230880e-02 9.8059571e-01\n",
            " 5.4333051e-04 4.7526552e-04]\n",
            "4\n"
          ]
        }
      ],
      "source": [
        "print(np.squeeze(tflite_results))\n",
        "print(np.argmax(np.squeeze(tflite_results)))"
      ]
    },
    {
      "cell_type": "code",
      "execution_count": 27,
      "metadata": {},
      "outputs": [
        {
          "data": {
            "text/plain": [
              "4"
            ]
          },
          "execution_count": 27,
          "metadata": {},
          "output_type": "execute_result"
        }
      ],
      "source": [
        "y_test[0]"
      ]
    }
  ],
  "metadata": {
    "accelerator": "GPU",
    "colab": {
      "provenance": []
    },
    "kernelspec": {
      "display_name": "Python 3",
      "language": "python",
      "name": "python3"
    },
    "language_info": {
      "codemirror_mode": {
        "name": "ipython",
        "version": 3
      },
      "file_extension": ".py",
      "mimetype": "text/x-python",
      "name": "python",
      "nbconvert_exporter": "python",
      "pygments_lexer": "ipython3",
      "version": "3.10.6"
    }
  },
  "nbformat": 4,
  "nbformat_minor": 0
}
